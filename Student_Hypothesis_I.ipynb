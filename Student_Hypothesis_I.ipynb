{
 "cells": [
  {
   "cell_type": "markdown",
   "metadata": {
    "toc": true
   },
   "source": [
    "<h1>Table of Contents<span class=\"tocSkip\"></span></h1>\n",
    "<div class=\"toc\"><ul class=\"toc-item\"><li><span><a href=\"#Student-Info\" data-toc-modified-id=\"Student-Info-1\"><span class=\"toc-item-num\">1&nbsp;&nbsp;</span>Student Info</a></span></li><li><span><a href=\"#Introduction\" data-toc-modified-id=\"Introduction-2\"><span class=\"toc-item-num\">2&nbsp;&nbsp;</span>Introduction</a></span></li><li><span><a href=\"#Hypothesis-I\" data-toc-modified-id=\"Hypothesis-I-3\"><span class=\"toc-item-num\">3&nbsp;&nbsp;</span>Hypothesis I</a></span></li><li><span><a href=\"#STEP-1:-Load-the-Data-and-determine-Test-Type\" data-toc-modified-id=\"STEP-1:-Load-the-Data-and-determine-Test-Type-4\"><span class=\"toc-item-num\">4&nbsp;&nbsp;</span>STEP 1: Load the Data and determine Test Type</a></span><ul class=\"toc-item\"><li><span><a href=\"#Initialise-Libraries\" data-toc-modified-id=\"Initialise-Libraries-4.1\"><span class=\"toc-item-num\">4.1&nbsp;&nbsp;</span>Initialise Libraries</a></span></li><li><span><a href=\"#Retrieve-data-from-database\" data-toc-modified-id=\"Retrieve-data-from-database-4.2\"><span class=\"toc-item-num\">4.2&nbsp;&nbsp;</span>Retrieve data from database</a></span><ul class=\"toc-item\"><li><span><a href=\"#Sample-Group-Design\" data-toc-modified-id=\"Sample-Group-Design-4.2.1\"><span class=\"toc-item-num\">4.2.1&nbsp;&nbsp;</span>Sample Group Design</a></span></li></ul></li></ul></li><li><span><a href=\"#STEP-2:-Validate-Assumptions-chosen-test\" data-toc-modified-id=\"STEP-2:-Validate-Assumptions-chosen-test-5\"><span class=\"toc-item-num\">5&nbsp;&nbsp;</span>STEP 2: Validate Assumptions chosen test</a></span><ul class=\"toc-item\"><li><span><a href=\"#Check-and-Remove-Outliers\" data-toc-modified-id=\"Check-and-Remove-Outliers-5.1\"><span class=\"toc-item-num\">5.1&nbsp;&nbsp;</span>Check and Remove Outliers</a></span></li><li><span><a href=\"#Test-for-Normality\" data-toc-modified-id=\"Test-for-Normality-5.2\"><span class=\"toc-item-num\">5.2&nbsp;&nbsp;</span>Test for Normality</a></span><ul class=\"toc-item\"><li><span><a href=\"#Check-group-size\" data-toc-modified-id=\"Check-group-size-5.2.1\"><span class=\"toc-item-num\">5.2.1&nbsp;&nbsp;</span>Check group size</a></span></li></ul></li><li><span><a href=\"#Test-for-Equal-Variance\" data-toc-modified-id=\"Test-for-Equal-Variance-5.3\"><span class=\"toc-item-num\">5.3&nbsp;&nbsp;</span>Test for Equal Variance</a></span></li></ul></li><li><span><a href=\"#Step-3:-Interpret-Result-&amp;-Post-Hoc-Tests\" data-toc-modified-id=\"Step-3:-Interpret-Result-&amp;-Post-Hoc-Tests-6\"><span class=\"toc-item-num\">6&nbsp;&nbsp;</span>Step 3: Interpret Result &amp; Post-Hoc Tests</a></span><ul class=\"toc-item\"><li><span><a href=\"#Run-Welch's-T-Test\" data-toc-modified-id=\"Run-Welch's-T-Test-6.1\"><span class=\"toc-item-num\">6.1&nbsp;&nbsp;</span>Run Welch's T-Test</a></span></li><li><span><a href=\"#Effect-Size\" data-toc-modified-id=\"Effect-Size-6.2\"><span class=\"toc-item-num\">6.2&nbsp;&nbsp;</span>Effect Size</a></span><ul class=\"toc-item\"><li><span><a href=\"#Cohen's-d\" data-toc-modified-id=\"Cohen's-d-6.2.1\"><span class=\"toc-item-num\">6.2.1&nbsp;&nbsp;</span>Cohen's d</a></span></li></ul></li><li><span><a href=\"#Multi-Sample-Data-Setup\" data-toc-modified-id=\"Multi-Sample-Data-Setup-6.3\"><span class=\"toc-item-num\">6.3&nbsp;&nbsp;</span>Multi Sample Data Setup</a></span><ul class=\"toc-item\"><li><span><a href=\"#Check-and-Remove-Outliers\" data-toc-modified-id=\"Check-and-Remove-Outliers-6.3.1\"><span class=\"toc-item-num\">6.3.1&nbsp;&nbsp;</span>Check and Remove Outliers</a></span></li><li><span><a href=\"#Test-for-Normality\" data-toc-modified-id=\"Test-for-Normality-6.3.2\"><span class=\"toc-item-num\">6.3.2&nbsp;&nbsp;</span>Test for Normality</a></span></li><li><span><a href=\"#Check-group-sizes\" data-toc-modified-id=\"Check-group-sizes-6.3.3\"><span class=\"toc-item-num\">6.3.3&nbsp;&nbsp;</span>Check group sizes</a></span></li><li><span><a href=\"#Test-for-Equal-Variance\" data-toc-modified-id=\"Test-for-Equal-Variance-6.3.4\"><span class=\"toc-item-num\">6.3.4&nbsp;&nbsp;</span>Test for Equal Variance</a></span></li></ul></li><li><span><a href=\"#ANOVA-Test\" data-toc-modified-id=\"ANOVA-Test-6.4\"><span class=\"toc-item-num\">6.4&nbsp;&nbsp;</span>ANOVA Test</a></span></li><li><span><a href=\"#Tukey's-Pairwise-Comparison\" data-toc-modified-id=\"Tukey's-Pairwise-Comparison-6.5\"><span class=\"toc-item-num\">6.5&nbsp;&nbsp;</span>Tukey's Pairwise Comparison</a></span></li></ul></li><li><span><a href=\"#Final-Analysis-and-Recommendations\" data-toc-modified-id=\"Final-Analysis-and-Recommendations-7\"><span class=\"toc-item-num\">7&nbsp;&nbsp;</span>Final Analysis and Recommendations</a></span><ul class=\"toc-item\"><li><span><a href=\"#Recommendation-1:\" data-toc-modified-id=\"Recommendation-1:-7.1\"><span class=\"toc-item-num\">7.1&nbsp;&nbsp;</span>Recommendation 1:</a></span></li><li><span><a href=\"#Recommendation-2:\" data-toc-modified-id=\"Recommendation-2:-7.2\"><span class=\"toc-item-num\">7.2&nbsp;&nbsp;</span>Recommendation 2:</a></span></li><li><span><a href=\"#Recommendation-3:\" data-toc-modified-id=\"Recommendation-3:-7.3\"><span class=\"toc-item-num\">7.3&nbsp;&nbsp;</span>Recommendation 3:</a></span></li><li><span><a href=\"#Recommendation-4:\" data-toc-modified-id=\"Recommendation-4:-7.4\"><span class=\"toc-item-num\">7.4&nbsp;&nbsp;</span>Recommendation 4:</a></span></li></ul></li><li><span><a href=\"#Additional-Hypothesis\" data-toc-modified-id=\"Additional-Hypothesis-8\"><span class=\"toc-item-num\">8&nbsp;&nbsp;</span>Additional Hypothesis</a></span><ul class=\"toc-item\"><li><span><a href=\"#Hypothesis-II\" data-toc-modified-id=\"Hypothesis-II-8.1\"><span class=\"toc-item-num\">8.1&nbsp;&nbsp;</span><a href=\"hypothesis_ii.ipynb\" target=\"_blank\">Hypothesis II</a></a></span></li><li><span><a href=\"#Hypothesis-III\" data-toc-modified-id=\"Hypothesis-III-8.2\"><span class=\"toc-item-num\">8.2&nbsp;&nbsp;</span><a href=\"hypothesis_iii.ipynb\" target=\"_blank\">Hypothesis III</a></a></span></li><li><span><a href=\"#Hypothesis-IV\" data-toc-modified-id=\"Hypothesis-IV-8.3\"><span class=\"toc-item-num\">8.3&nbsp;&nbsp;</span><a href=\"hypothesis_iv.ipynb\" target=\"_blank\">Hypothesis IV</a></a></span></li></ul></li></ul></div>"
   ]
  },
  {
   "cell_type": "markdown",
   "metadata": {},
   "source": [
    "## Student Info\n",
    "Name: Susanna Mir\n",
    "Cohort: DS-PT\n",
    "Instructor: James Irving"
   ]
  },
  {
   "cell_type": "markdown",
   "metadata": {},
   "source": [
    "********************************"
   ]
  },
  {
   "cell_type": "markdown",
   "metadata": {},
   "source": [
    "## Introduction\n",
    "\n",
    "The goal of the project is to query the Northwind database to get the data needed to perform a statistical analysis. In this statistical analysis, a hypothesis test will be perfomed to answer the following question:\n",
    "\n",
    "Does discount amount have a statistically significant effect on the quantity of a product in an order? If so, at what level(s) of discount?\n",
    "\n",
    "In addition to answering this question with a hypothesis test I, I have added 3 other hypotheses to test:\n",
    ">Hypothesis II  :  Does discount have a significant effect on total price paid on an order?\n",
    "\n",
    ">Hypothesis III :  Does the order month have a significant effect on the total spent on orders for that  >month?\n",
    "\n",
    ">Hypothesis IV :  Does the order month have a significant effect on the quantity on orders for that month?\n",
    "\n",
    "Furthermore, it will be specified if this is one-tail or a two-tail test."
   ]
  },
  {
   "cell_type": "markdown",
   "metadata": {},
   "source": [
    "********************************"
   ]
  },
  {
   "cell_type": "markdown",
   "metadata": {},
   "source": [
    "## Hypothesis I"
   ]
  },
  {
   "cell_type": "markdown",
   "metadata": {},
   "source": [
    "> Does discount amount have a statistically significant effect on the quantity of a product in an order? \n",
    "> If so, at what level(s) of discount?\n",
    "\n",
    "- $H_1$: Discount amount DOES have a statistically significant effect on the quantity of a product in an order.  \n",
    "- $H_0$: Discount amount DOES NOT have a statistically significant effect on the quantity of a product in an order.  \n",
    "\n",
    "\n",
    "Set the P-Value\n",
    "$\\alpha$=0.05\n",
    "If the P-Value is < 0.5 we can be confident that we can reject the null hypothesis\n",
    "\n",
    "- $H_1$: What does it mean to be significant?  (P-Value< 0.5)\n",
    "An observed difference between the two groups is probably not due to chance\n",
    "\n",
    "- $H_0$: What does it mean to NOT be significant?  (P-Value> 0.5)\n",
    "There is not enough evidence to say that an observed difference between the two groups is not random.  (If there is a difference, it is smaller than we care about)\n"
   ]
  },
  {
   "cell_type": "markdown",
   "metadata": {},
   "source": [
    "********************************"
   ]
  },
  {
   "cell_type": "markdown",
   "metadata": {},
   "source": [
    "## STEP 1: Load the Data and determine Test Type"
   ]
  },
  {
   "cell_type": "markdown",
   "metadata": {},
   "source": [
    "### Initialise Libraries"
   ]
  },
  {
   "cell_type": "code",
   "execution_count": 41,
   "metadata": {},
   "outputs": [],
   "source": [
    "import pandas as pd\n",
    "import numpy as np\n",
    "import sqlite3\n",
    "import scipy.stats as stat\n",
    "from scipy import stats\n",
    "\n",
    "#data visualization imports\n",
    "import matplotlib.pyplot as plt\n",
    "import seaborn as sns\n",
    "\n",
    "#for t-tests\n",
    "from scipy.stats import ttest_ind\n",
    "\n",
    "#for ANOVA\n",
    "import statsmodels.api as sm\n",
    "from statsmodels.formula.api import ols\n",
    "from statsmodels.stats.multicomp import pairwise_tukeyhsd\n",
    "from statsmodels.stats.multicomp import MultiComparison\n",
    "\n",
    "from scipy.stats import f_oneway\n",
    "\n",
    "#for Project Library Functions\n",
    "from functions import Cohen_d, find_outliers_IQR,find_outliers_Z\n",
    "## Uncomment the line below to see the source code for the imported functions\n",
    "# fs.ihelp(Cohen_d,False),fs.ihelp(find_outliers_IQR,False), fs.ihelp(find_outliers_Z,False)"
   ]
  },
  {
   "cell_type": "markdown",
   "metadata": {},
   "source": [
    "### Retrieve data from database"
   ]
  },
  {
   "cell_type": "markdown",
   "metadata": {},
   "source": [
    "The schema below defines the tables and relationships for the database. The Order_Details table contains information with the columns of interest: [Quantity] and [Discount] by [Product_ID]."
   ]
  },
  {
   "cell_type": "code",
   "execution_count": 42,
   "metadata": {},
   "outputs": [
    {
     "data": {
      "image/png": "[encoded data removed]",
      "text/plain": [
       "<IPython.core.display.Image object>"
      ]
     },
     "execution_count": 42,
     "metadata": {},
     "output_type": "execute_result"
    }
   ],
   "source": [
    "from IPython.display import Image\n",
    "Image(\"Northwind_ERD.png\")"
   ]
  },
  {
   "cell_type": "code",
   "execution_count": 43,
   "metadata": {},
   "outputs": [],
   "source": [
    "# create a connection to the database\n",
    "connect = sqlite3.connect('Northwind_small.sqlite')\n",
    "cur = connect.cursor()"
   ]
  },
  {
   "cell_type": "code",
   "execution_count": 44,
   "metadata": {},
   "outputs": [
    {
     "data": {
      "text/html": [
       "<div>\n",
       "<style scoped>\n",
       "    .dataframe tbody tr th:only-of-type {\n",
       "        vertical-align: middle;\n",
       "    }\n",
       "\n",
       "    .dataframe tbody tr th {\n",
       "        vertical-align: top;\n",
       "    }\n",
       "\n",
       "    .dataframe thead th {\n",
       "        text-align: right;\n",
       "    }\n",
       "</style>\n",
       "<table border=\"1\" class=\"dataframe\">\n",
       "  <thead>\n",
       "    <tr style=\"text-align: right;\">\n",
       "      <th></th>\n",
       "      <th>Table</th>\n",
       "    </tr>\n",
       "  </thead>\n",
       "  <tbody>\n",
       "    <tr>\n",
       "      <th>0</th>\n",
       "      <td>Employee</td>\n",
       "    </tr>\n",
       "    <tr>\n",
       "      <th>1</th>\n",
       "      <td>Category</td>\n",
       "    </tr>\n",
       "    <tr>\n",
       "      <th>2</th>\n",
       "      <td>Customer</td>\n",
       "    </tr>\n",
       "    <tr>\n",
       "      <th>3</th>\n",
       "      <td>Shipper</td>\n",
       "    </tr>\n",
       "    <tr>\n",
       "      <th>4</th>\n",
       "      <td>Supplier</td>\n",
       "    </tr>\n",
       "    <tr>\n",
       "      <th>5</th>\n",
       "      <td>Order</td>\n",
       "    </tr>\n",
       "    <tr>\n",
       "      <th>6</th>\n",
       "      <td>Product</td>\n",
       "    </tr>\n",
       "    <tr>\n",
       "      <th>7</th>\n",
       "      <td>OrderDetail</td>\n",
       "    </tr>\n",
       "    <tr>\n",
       "      <th>8</th>\n",
       "      <td>CustomerCustomerDemo</td>\n",
       "    </tr>\n",
       "    <tr>\n",
       "      <th>9</th>\n",
       "      <td>CustomerDemographic</td>\n",
       "    </tr>\n",
       "    <tr>\n",
       "      <th>10</th>\n",
       "      <td>Region</td>\n",
       "    </tr>\n",
       "    <tr>\n",
       "      <th>11</th>\n",
       "      <td>Territory</td>\n",
       "    </tr>\n",
       "    <tr>\n",
       "      <th>12</th>\n",
       "      <td>EmployeeTerritory</td>\n",
       "    </tr>\n",
       "  </tbody>\n",
       "</table>\n",
       "</div>"
      ],
      "text/plain": [
       "                   Table\n",
       "0               Employee\n",
       "1               Category\n",
       "2               Customer\n",
       "3                Shipper\n",
       "4               Supplier\n",
       "5                  Order\n",
       "6                Product\n",
       "7            OrderDetail\n",
       "8   CustomerCustomerDemo\n",
       "9    CustomerDemographic\n",
       "10                Region\n",
       "11             Territory\n",
       "12     EmployeeTerritory"
      ]
     },
     "execution_count": 44,
     "metadata": {},
     "output_type": "execute_result"
    }
   ],
   "source": [
    "# view table definition\n",
    "cur.execute(\"\"\"SELECT name FROM sqlite_master WHERE type='table';\"\"\")\n",
    "df_tables = pd.DataFrame(cur.fetchall(), columns=['Table'])\n",
    "df_tables"
   ]
  },
  {
   "cell_type": "code",
   "execution_count": 45,
   "metadata": {},
   "outputs": [
    {
     "data": {
      "text/html": [
       "<div>\n",
       "<style scoped>\n",
       "    .dataframe tbody tr th:only-of-type {\n",
       "        vertical-align: middle;\n",
       "    }\n",
       "\n",
       "    .dataframe tbody tr th {\n",
       "        vertical-align: top;\n",
       "    }\n",
       "\n",
       "    .dataframe thead th {\n",
       "        text-align: right;\n",
       "    }\n",
       "</style>\n",
       "<table border=\"1\" class=\"dataframe\">\n",
       "  <thead>\n",
       "    <tr style=\"text-align: right;\">\n",
       "      <th></th>\n",
       "      <th>Id</th>\n",
       "      <th>OrderId</th>\n",
       "      <th>ProductId</th>\n",
       "      <th>UnitPrice</th>\n",
       "      <th>Quantity</th>\n",
       "      <th>Discount</th>\n",
       "    </tr>\n",
       "  </thead>\n",
       "  <tbody>\n",
       "    <tr>\n",
       "      <th>0</th>\n",
       "      <td>10248/11</td>\n",
       "      <td>10248</td>\n",
       "      <td>11</td>\n",
       "      <td>14.0</td>\n",
       "      <td>12</td>\n",
       "      <td>0.0</td>\n",
       "    </tr>\n",
       "    <tr>\n",
       "      <th>1</th>\n",
       "      <td>10248/42</td>\n",
       "      <td>10248</td>\n",
       "      <td>42</td>\n",
       "      <td>9.8</td>\n",
       "      <td>10</td>\n",
       "      <td>0.0</td>\n",
       "    </tr>\n",
       "    <tr>\n",
       "      <th>2</th>\n",
       "      <td>10248/72</td>\n",
       "      <td>10248</td>\n",
       "      <td>72</td>\n",
       "      <td>34.8</td>\n",
       "      <td>5</td>\n",
       "      <td>0.0</td>\n",
       "    </tr>\n",
       "    <tr>\n",
       "      <th>3</th>\n",
       "      <td>10249/14</td>\n",
       "      <td>10249</td>\n",
       "      <td>14</td>\n",
       "      <td>18.6</td>\n",
       "      <td>9</td>\n",
       "      <td>0.0</td>\n",
       "    </tr>\n",
       "    <tr>\n",
       "      <th>4</th>\n",
       "      <td>10249/51</td>\n",
       "      <td>10249</td>\n",
       "      <td>51</td>\n",
       "      <td>42.4</td>\n",
       "      <td>40</td>\n",
       "      <td>0.0</td>\n",
       "    </tr>\n",
       "  </tbody>\n",
       "</table>\n",
       "</div>"
      ],
      "text/plain": [
       "         Id  OrderId  ProductId  UnitPrice  Quantity  Discount\n",
       "0  10248/11    10248         11       14.0        12       0.0\n",
       "1  10248/42    10248         42        9.8        10       0.0\n",
       "2  10248/72    10248         72       34.8         5       0.0\n",
       "3  10249/14    10249         14       18.6         9       0.0\n",
       "4  10249/51    10249         51       42.4        40       0.0"
      ]
     },
     "execution_count": 45,
     "metadata": {},
     "output_type": "execute_result"
    }
   ],
   "source": [
    "# query the database\n",
    "cur.execute(\"SELECT * FROM OrderDetail;\")\n",
    "\n",
    "# store results in a dataframe\n",
    "df_order_details = pd.DataFrame(cur.fetchall())\n",
    "df_order_details.columns = [i[0] for i in cur.description]\n",
    "\n",
    "# check the import\n",
    "df_order_details.head()"
   ]
  },
  {
   "cell_type": "code",
   "execution_count": 46,
   "metadata": {},
   "outputs": [],
   "source": [
    "## Data Clean check - are there any null values?"
   ]
  },
  {
   "cell_type": "code",
   "execution_count": 47,
   "metadata": {},
   "outputs": [],
   "source": [
    "# query the database\n",
    "cur.execute(\"SELECT * FROM OrderDetail;\")\n",
    "\n",
    "# store results in a dataframe\n",
    "df_order_details_check_nulls = pd.DataFrame(cur.fetchall())"
   ]
  },
  {
   "cell_type": "code",
   "execution_count": 48,
   "metadata": {},
   "outputs": [
    {
     "data": {
      "text/plain": [
       "0    0\n",
       "1    0\n",
       "2    0\n",
       "3    0\n",
       "4    0\n",
       "5    0\n",
       "dtype: int64"
      ]
     },
     "execution_count": 48,
     "metadata": {},
     "output_type": "execute_result"
    }
   ],
   "source": [
    "df_order_details_check_nulls.isna().sum()"
   ]
  },
  {
   "cell_type": "code",
   "execution_count": 49,
   "metadata": {},
   "outputs": [
    {
     "data": {
      "text/html": [
       "<div>\n",
       "<style scoped>\n",
       "    .dataframe tbody tr th:only-of-type {\n",
       "        vertical-align: middle;\n",
       "    }\n",
       "\n",
       "    .dataframe tbody tr th {\n",
       "        vertical-align: top;\n",
       "    }\n",
       "\n",
       "    .dataframe thead th {\n",
       "        text-align: right;\n",
       "    }\n",
       "</style>\n",
       "<table border=\"1\" class=\"dataframe\">\n",
       "  <thead>\n",
       "    <tr style=\"text-align: right;\">\n",
       "      <th></th>\n",
       "      <th>Id</th>\n",
       "      <th>OrderId</th>\n",
       "      <th>ProductId</th>\n",
       "      <th>UnitPrice</th>\n",
       "      <th>Quantity</th>\n",
       "      <th>Discount</th>\n",
       "    </tr>\n",
       "  </thead>\n",
       "  <tbody>\n",
       "    <tr>\n",
       "      <th>0</th>\n",
       "      <td>10248/11</td>\n",
       "      <td>10248</td>\n",
       "      <td>11</td>\n",
       "      <td>14.0</td>\n",
       "      <td>12</td>\n",
       "      <td>0.0</td>\n",
       "    </tr>\n",
       "    <tr>\n",
       "      <th>1</th>\n",
       "      <td>10248/42</td>\n",
       "      <td>10248</td>\n",
       "      <td>42</td>\n",
       "      <td>9.8</td>\n",
       "      <td>10</td>\n",
       "      <td>0.0</td>\n",
       "    </tr>\n",
       "    <tr>\n",
       "      <th>2</th>\n",
       "      <td>10248/72</td>\n",
       "      <td>10248</td>\n",
       "      <td>72</td>\n",
       "      <td>34.8</td>\n",
       "      <td>5</td>\n",
       "      <td>0.0</td>\n",
       "    </tr>\n",
       "    <tr>\n",
       "      <th>3</th>\n",
       "      <td>10249/14</td>\n",
       "      <td>10249</td>\n",
       "      <td>14</td>\n",
       "      <td>18.6</td>\n",
       "      <td>9</td>\n",
       "      <td>0.0</td>\n",
       "    </tr>\n",
       "    <tr>\n",
       "      <th>4</th>\n",
       "      <td>10249/51</td>\n",
       "      <td>10249</td>\n",
       "      <td>51</td>\n",
       "      <td>42.4</td>\n",
       "      <td>40</td>\n",
       "      <td>0.0</td>\n",
       "    </tr>\n",
       "  </tbody>\n",
       "</table>\n",
       "</div>"
      ],
      "text/plain": [
       "         Id  OrderId  ProductId  UnitPrice  Quantity  Discount\n",
       "0  10248/11    10248         11       14.0        12       0.0\n",
       "1  10248/42    10248         42        9.8        10       0.0\n",
       "2  10248/72    10248         72       34.8         5       0.0\n",
       "3  10249/14    10249         14       18.6         9       0.0\n",
       "4  10249/51    10249         51       42.4        40       0.0"
      ]
     },
     "execution_count": 49,
     "metadata": {},
     "output_type": "execute_result"
    }
   ],
   "source": [
    "# no null values found\n",
    "df_order_details.head()"
   ]
  },
  {
   "cell_type": "markdown",
   "metadata": {},
   "source": [
    "#### Sample Group Design"
   ]
  },
  {
   "cell_type": "markdown",
   "metadata": {},
   "source": [
    ">What type of data do I have (Numeric or categorical?)\n",
    ">- Numerical - 2 Sample T-Test\n",
    "\n",
    ">How many samples/groups am I comparing? = 2 therefore focus on using a 2 Sample T-Test"
   ]
  },
  {
   "cell_type": "code",
   "execution_count": 50,
   "metadata": {},
   "outputs": [
    {
     "data": {
      "text/html": [
       "<div>\n",
       "<style scoped>\n",
       "    .dataframe tbody tr th:only-of-type {\n",
       "        vertical-align: middle;\n",
       "    }\n",
       "\n",
       "    .dataframe tbody tr th {\n",
       "        vertical-align: top;\n",
       "    }\n",
       "\n",
       "    .dataframe thead th {\n",
       "        text-align: right;\n",
       "    }\n",
       "</style>\n",
       "<table border=\"1\" class=\"dataframe\">\n",
       "  <thead>\n",
       "    <tr style=\"text-align: right;\">\n",
       "      <th></th>\n",
       "      <th>Id</th>\n",
       "      <th>OrderId</th>\n",
       "      <th>ProductId</th>\n",
       "      <th>UnitPrice</th>\n",
       "      <th>Quantity</th>\n",
       "      <th>Discount</th>\n",
       "      <th>discounted</th>\n",
       "    </tr>\n",
       "  </thead>\n",
       "  <tbody>\n",
       "    <tr>\n",
       "      <th>0</th>\n",
       "      <td>10248/11</td>\n",
       "      <td>10248</td>\n",
       "      <td>11</td>\n",
       "      <td>14.00</td>\n",
       "      <td>12</td>\n",
       "      <td>0.00</td>\n",
       "      <td>Full Price</td>\n",
       "    </tr>\n",
       "    <tr>\n",
       "      <th>1</th>\n",
       "      <td>10248/42</td>\n",
       "      <td>10248</td>\n",
       "      <td>42</td>\n",
       "      <td>9.80</td>\n",
       "      <td>10</td>\n",
       "      <td>0.00</td>\n",
       "      <td>Full Price</td>\n",
       "    </tr>\n",
       "    <tr>\n",
       "      <th>2</th>\n",
       "      <td>10248/72</td>\n",
       "      <td>10248</td>\n",
       "      <td>72</td>\n",
       "      <td>34.80</td>\n",
       "      <td>5</td>\n",
       "      <td>0.00</td>\n",
       "      <td>Full Price</td>\n",
       "    </tr>\n",
       "    <tr>\n",
       "      <th>3</th>\n",
       "      <td>10249/14</td>\n",
       "      <td>10249</td>\n",
       "      <td>14</td>\n",
       "      <td>18.60</td>\n",
       "      <td>9</td>\n",
       "      <td>0.00</td>\n",
       "      <td>Full Price</td>\n",
       "    </tr>\n",
       "    <tr>\n",
       "      <th>4</th>\n",
       "      <td>10249/51</td>\n",
       "      <td>10249</td>\n",
       "      <td>51</td>\n",
       "      <td>42.40</td>\n",
       "      <td>40</td>\n",
       "      <td>0.00</td>\n",
       "      <td>Full Price</td>\n",
       "    </tr>\n",
       "    <tr>\n",
       "      <th>5</th>\n",
       "      <td>10250/41</td>\n",
       "      <td>10250</td>\n",
       "      <td>41</td>\n",
       "      <td>7.70</td>\n",
       "      <td>10</td>\n",
       "      <td>0.00</td>\n",
       "      <td>Full Price</td>\n",
       "    </tr>\n",
       "    <tr>\n",
       "      <th>6</th>\n",
       "      <td>10250/51</td>\n",
       "      <td>10250</td>\n",
       "      <td>51</td>\n",
       "      <td>42.40</td>\n",
       "      <td>35</td>\n",
       "      <td>0.15</td>\n",
       "      <td>Discounted</td>\n",
       "    </tr>\n",
       "    <tr>\n",
       "      <th>7</th>\n",
       "      <td>10250/65</td>\n",
       "      <td>10250</td>\n",
       "      <td>65</td>\n",
       "      <td>16.80</td>\n",
       "      <td>15</td>\n",
       "      <td>0.15</td>\n",
       "      <td>Discounted</td>\n",
       "    </tr>\n",
       "    <tr>\n",
       "      <th>8</th>\n",
       "      <td>10251/22</td>\n",
       "      <td>10251</td>\n",
       "      <td>22</td>\n",
       "      <td>16.80</td>\n",
       "      <td>6</td>\n",
       "      <td>0.05</td>\n",
       "      <td>Discounted</td>\n",
       "    </tr>\n",
       "    <tr>\n",
       "      <th>9</th>\n",
       "      <td>10251/57</td>\n",
       "      <td>10251</td>\n",
       "      <td>57</td>\n",
       "      <td>15.60</td>\n",
       "      <td>15</td>\n",
       "      <td>0.05</td>\n",
       "      <td>Discounted</td>\n",
       "    </tr>\n",
       "    <tr>\n",
       "      <th>10</th>\n",
       "      <td>10251/65</td>\n",
       "      <td>10251</td>\n",
       "      <td>65</td>\n",
       "      <td>16.80</td>\n",
       "      <td>20</td>\n",
       "      <td>0.00</td>\n",
       "      <td>Full Price</td>\n",
       "    </tr>\n",
       "    <tr>\n",
       "      <th>11</th>\n",
       "      <td>10252/20</td>\n",
       "      <td>10252</td>\n",
       "      <td>20</td>\n",
       "      <td>64.80</td>\n",
       "      <td>40</td>\n",
       "      <td>0.05</td>\n",
       "      <td>Discounted</td>\n",
       "    </tr>\n",
       "    <tr>\n",
       "      <th>12</th>\n",
       "      <td>10252/33</td>\n",
       "      <td>10252</td>\n",
       "      <td>33</td>\n",
       "      <td>2.00</td>\n",
       "      <td>25</td>\n",
       "      <td>0.05</td>\n",
       "      <td>Discounted</td>\n",
       "    </tr>\n",
       "    <tr>\n",
       "      <th>13</th>\n",
       "      <td>10252/60</td>\n",
       "      <td>10252</td>\n",
       "      <td>60</td>\n",
       "      <td>27.20</td>\n",
       "      <td>40</td>\n",
       "      <td>0.00</td>\n",
       "      <td>Full Price</td>\n",
       "    </tr>\n",
       "    <tr>\n",
       "      <th>14</th>\n",
       "      <td>10253/31</td>\n",
       "      <td>10253</td>\n",
       "      <td>31</td>\n",
       "      <td>10.00</td>\n",
       "      <td>20</td>\n",
       "      <td>0.00</td>\n",
       "      <td>Full Price</td>\n",
       "    </tr>\n",
       "    <tr>\n",
       "      <th>15</th>\n",
       "      <td>10253/39</td>\n",
       "      <td>10253</td>\n",
       "      <td>39</td>\n",
       "      <td>14.40</td>\n",
       "      <td>42</td>\n",
       "      <td>0.00</td>\n",
       "      <td>Full Price</td>\n",
       "    </tr>\n",
       "    <tr>\n",
       "      <th>16</th>\n",
       "      <td>10253/49</td>\n",
       "      <td>10253</td>\n",
       "      <td>49</td>\n",
       "      <td>16.00</td>\n",
       "      <td>40</td>\n",
       "      <td>0.00</td>\n",
       "      <td>Full Price</td>\n",
       "    </tr>\n",
       "    <tr>\n",
       "      <th>17</th>\n",
       "      <td>10254/24</td>\n",
       "      <td>10254</td>\n",
       "      <td>24</td>\n",
       "      <td>3.60</td>\n",
       "      <td>15</td>\n",
       "      <td>0.15</td>\n",
       "      <td>Discounted</td>\n",
       "    </tr>\n",
       "    <tr>\n",
       "      <th>18</th>\n",
       "      <td>10254/55</td>\n",
       "      <td>10254</td>\n",
       "      <td>55</td>\n",
       "      <td>19.20</td>\n",
       "      <td>21</td>\n",
       "      <td>0.15</td>\n",
       "      <td>Discounted</td>\n",
       "    </tr>\n",
       "    <tr>\n",
       "      <th>19</th>\n",
       "      <td>10254/74</td>\n",
       "      <td>10254</td>\n",
       "      <td>74</td>\n",
       "      <td>8.00</td>\n",
       "      <td>21</td>\n",
       "      <td>0.00</td>\n",
       "      <td>Full Price</td>\n",
       "    </tr>\n",
       "    <tr>\n",
       "      <th>20</th>\n",
       "      <td>10255/2</td>\n",
       "      <td>10255</td>\n",
       "      <td>2</td>\n",
       "      <td>15.20</td>\n",
       "      <td>20</td>\n",
       "      <td>0.00</td>\n",
       "      <td>Full Price</td>\n",
       "    </tr>\n",
       "    <tr>\n",
       "      <th>21</th>\n",
       "      <td>10255/16</td>\n",
       "      <td>10255</td>\n",
       "      <td>16</td>\n",
       "      <td>13.90</td>\n",
       "      <td>35</td>\n",
       "      <td>0.00</td>\n",
       "      <td>Full Price</td>\n",
       "    </tr>\n",
       "    <tr>\n",
       "      <th>22</th>\n",
       "      <td>10255/36</td>\n",
       "      <td>10255</td>\n",
       "      <td>36</td>\n",
       "      <td>15.20</td>\n",
       "      <td>25</td>\n",
       "      <td>0.00</td>\n",
       "      <td>Full Price</td>\n",
       "    </tr>\n",
       "    <tr>\n",
       "      <th>23</th>\n",
       "      <td>10255/59</td>\n",
       "      <td>10255</td>\n",
       "      <td>59</td>\n",
       "      <td>44.00</td>\n",
       "      <td>30</td>\n",
       "      <td>0.00</td>\n",
       "      <td>Full Price</td>\n",
       "    </tr>\n",
       "    <tr>\n",
       "      <th>24</th>\n",
       "      <td>10256/53</td>\n",
       "      <td>10256</td>\n",
       "      <td>53</td>\n",
       "      <td>26.20</td>\n",
       "      <td>15</td>\n",
       "      <td>0.00</td>\n",
       "      <td>Full Price</td>\n",
       "    </tr>\n",
       "    <tr>\n",
       "      <th>25</th>\n",
       "      <td>10256/77</td>\n",
       "      <td>10256</td>\n",
       "      <td>77</td>\n",
       "      <td>10.40</td>\n",
       "      <td>12</td>\n",
       "      <td>0.00</td>\n",
       "      <td>Full Price</td>\n",
       "    </tr>\n",
       "    <tr>\n",
       "      <th>26</th>\n",
       "      <td>10257/27</td>\n",
       "      <td>10257</td>\n",
       "      <td>27</td>\n",
       "      <td>35.10</td>\n",
       "      <td>25</td>\n",
       "      <td>0.00</td>\n",
       "      <td>Full Price</td>\n",
       "    </tr>\n",
       "    <tr>\n",
       "      <th>27</th>\n",
       "      <td>10257/39</td>\n",
       "      <td>10257</td>\n",
       "      <td>39</td>\n",
       "      <td>14.40</td>\n",
       "      <td>6</td>\n",
       "      <td>0.00</td>\n",
       "      <td>Full Price</td>\n",
       "    </tr>\n",
       "    <tr>\n",
       "      <th>28</th>\n",
       "      <td>10257/77</td>\n",
       "      <td>10257</td>\n",
       "      <td>77</td>\n",
       "      <td>10.40</td>\n",
       "      <td>15</td>\n",
       "      <td>0.00</td>\n",
       "      <td>Full Price</td>\n",
       "    </tr>\n",
       "    <tr>\n",
       "      <th>29</th>\n",
       "      <td>10258/2</td>\n",
       "      <td>10258</td>\n",
       "      <td>2</td>\n",
       "      <td>15.20</td>\n",
       "      <td>50</td>\n",
       "      <td>0.20</td>\n",
       "      <td>Discounted</td>\n",
       "    </tr>\n",
       "    <tr>\n",
       "      <th>...</th>\n",
       "      <td>...</td>\n",
       "      <td>...</td>\n",
       "      <td>...</td>\n",
       "      <td>...</td>\n",
       "      <td>...</td>\n",
       "      <td>...</td>\n",
       "      <td>...</td>\n",
       "    </tr>\n",
       "    <tr>\n",
       "      <th>2125</th>\n",
       "      <td>11075/46</td>\n",
       "      <td>11075</td>\n",
       "      <td>46</td>\n",
       "      <td>12.00</td>\n",
       "      <td>30</td>\n",
       "      <td>0.15</td>\n",
       "      <td>Discounted</td>\n",
       "    </tr>\n",
       "    <tr>\n",
       "      <th>2126</th>\n",
       "      <td>11075/76</td>\n",
       "      <td>11075</td>\n",
       "      <td>76</td>\n",
       "      <td>18.00</td>\n",
       "      <td>2</td>\n",
       "      <td>0.15</td>\n",
       "      <td>Discounted</td>\n",
       "    </tr>\n",
       "    <tr>\n",
       "      <th>2127</th>\n",
       "      <td>11076/6</td>\n",
       "      <td>11076</td>\n",
       "      <td>6</td>\n",
       "      <td>25.00</td>\n",
       "      <td>20</td>\n",
       "      <td>0.25</td>\n",
       "      <td>Discounted</td>\n",
       "    </tr>\n",
       "    <tr>\n",
       "      <th>2128</th>\n",
       "      <td>11076/14</td>\n",
       "      <td>11076</td>\n",
       "      <td>14</td>\n",
       "      <td>23.25</td>\n",
       "      <td>20</td>\n",
       "      <td>0.25</td>\n",
       "      <td>Discounted</td>\n",
       "    </tr>\n",
       "    <tr>\n",
       "      <th>2129</th>\n",
       "      <td>11076/19</td>\n",
       "      <td>11076</td>\n",
       "      <td>19</td>\n",
       "      <td>9.20</td>\n",
       "      <td>10</td>\n",
       "      <td>0.25</td>\n",
       "      <td>Discounted</td>\n",
       "    </tr>\n",
       "    <tr>\n",
       "      <th>2130</th>\n",
       "      <td>11077/2</td>\n",
       "      <td>11077</td>\n",
       "      <td>2</td>\n",
       "      <td>19.00</td>\n",
       "      <td>24</td>\n",
       "      <td>0.20</td>\n",
       "      <td>Discounted</td>\n",
       "    </tr>\n",
       "    <tr>\n",
       "      <th>2131</th>\n",
       "      <td>11077/3</td>\n",
       "      <td>11077</td>\n",
       "      <td>3</td>\n",
       "      <td>10.00</td>\n",
       "      <td>4</td>\n",
       "      <td>0.00</td>\n",
       "      <td>Full Price</td>\n",
       "    </tr>\n",
       "    <tr>\n",
       "      <th>2132</th>\n",
       "      <td>11077/4</td>\n",
       "      <td>11077</td>\n",
       "      <td>4</td>\n",
       "      <td>22.00</td>\n",
       "      <td>1</td>\n",
       "      <td>0.00</td>\n",
       "      <td>Full Price</td>\n",
       "    </tr>\n",
       "    <tr>\n",
       "      <th>2133</th>\n",
       "      <td>11077/6</td>\n",
       "      <td>11077</td>\n",
       "      <td>6</td>\n",
       "      <td>25.00</td>\n",
       "      <td>1</td>\n",
       "      <td>0.02</td>\n",
       "      <td>Discounted</td>\n",
       "    </tr>\n",
       "    <tr>\n",
       "      <th>2134</th>\n",
       "      <td>11077/7</td>\n",
       "      <td>11077</td>\n",
       "      <td>7</td>\n",
       "      <td>30.00</td>\n",
       "      <td>1</td>\n",
       "      <td>0.05</td>\n",
       "      <td>Discounted</td>\n",
       "    </tr>\n",
       "    <tr>\n",
       "      <th>2135</th>\n",
       "      <td>11077/8</td>\n",
       "      <td>11077</td>\n",
       "      <td>8</td>\n",
       "      <td>40.00</td>\n",
       "      <td>2</td>\n",
       "      <td>0.10</td>\n",
       "      <td>Discounted</td>\n",
       "    </tr>\n",
       "    <tr>\n",
       "      <th>2136</th>\n",
       "      <td>11077/10</td>\n",
       "      <td>11077</td>\n",
       "      <td>10</td>\n",
       "      <td>31.00</td>\n",
       "      <td>1</td>\n",
       "      <td>0.00</td>\n",
       "      <td>Full Price</td>\n",
       "    </tr>\n",
       "    <tr>\n",
       "      <th>2137</th>\n",
       "      <td>11077/12</td>\n",
       "      <td>11077</td>\n",
       "      <td>12</td>\n",
       "      <td>38.00</td>\n",
       "      <td>2</td>\n",
       "      <td>0.05</td>\n",
       "      <td>Discounted</td>\n",
       "    </tr>\n",
       "    <tr>\n",
       "      <th>2138</th>\n",
       "      <td>11077/13</td>\n",
       "      <td>11077</td>\n",
       "      <td>13</td>\n",
       "      <td>6.00</td>\n",
       "      <td>4</td>\n",
       "      <td>0.00</td>\n",
       "      <td>Full Price</td>\n",
       "    </tr>\n",
       "    <tr>\n",
       "      <th>2139</th>\n",
       "      <td>11077/14</td>\n",
       "      <td>11077</td>\n",
       "      <td>14</td>\n",
       "      <td>23.25</td>\n",
       "      <td>1</td>\n",
       "      <td>0.03</td>\n",
       "      <td>Discounted</td>\n",
       "    </tr>\n",
       "    <tr>\n",
       "      <th>2140</th>\n",
       "      <td>11077/16</td>\n",
       "      <td>11077</td>\n",
       "      <td>16</td>\n",
       "      <td>17.45</td>\n",
       "      <td>2</td>\n",
       "      <td>0.03</td>\n",
       "      <td>Discounted</td>\n",
       "    </tr>\n",
       "    <tr>\n",
       "      <th>2141</th>\n",
       "      <td>11077/20</td>\n",
       "      <td>11077</td>\n",
       "      <td>20</td>\n",
       "      <td>81.00</td>\n",
       "      <td>1</td>\n",
       "      <td>0.04</td>\n",
       "      <td>Discounted</td>\n",
       "    </tr>\n",
       "    <tr>\n",
       "      <th>2142</th>\n",
       "      <td>11077/23</td>\n",
       "      <td>11077</td>\n",
       "      <td>23</td>\n",
       "      <td>9.00</td>\n",
       "      <td>2</td>\n",
       "      <td>0.00</td>\n",
       "      <td>Full Price</td>\n",
       "    </tr>\n",
       "    <tr>\n",
       "      <th>2143</th>\n",
       "      <td>11077/32</td>\n",
       "      <td>11077</td>\n",
       "      <td>32</td>\n",
       "      <td>32.00</td>\n",
       "      <td>1</td>\n",
       "      <td>0.00</td>\n",
       "      <td>Full Price</td>\n",
       "    </tr>\n",
       "    <tr>\n",
       "      <th>2144</th>\n",
       "      <td>11077/39</td>\n",
       "      <td>11077</td>\n",
       "      <td>39</td>\n",
       "      <td>18.00</td>\n",
       "      <td>2</td>\n",
       "      <td>0.05</td>\n",
       "      <td>Discounted</td>\n",
       "    </tr>\n",
       "    <tr>\n",
       "      <th>2145</th>\n",
       "      <td>11077/41</td>\n",
       "      <td>11077</td>\n",
       "      <td>41</td>\n",
       "      <td>9.65</td>\n",
       "      <td>3</td>\n",
       "      <td>0.00</td>\n",
       "      <td>Full Price</td>\n",
       "    </tr>\n",
       "    <tr>\n",
       "      <th>2146</th>\n",
       "      <td>11077/46</td>\n",
       "      <td>11077</td>\n",
       "      <td>46</td>\n",
       "      <td>12.00</td>\n",
       "      <td>3</td>\n",
       "      <td>0.02</td>\n",
       "      <td>Discounted</td>\n",
       "    </tr>\n",
       "    <tr>\n",
       "      <th>2147</th>\n",
       "      <td>11077/52</td>\n",
       "      <td>11077</td>\n",
       "      <td>52</td>\n",
       "      <td>7.00</td>\n",
       "      <td>2</td>\n",
       "      <td>0.00</td>\n",
       "      <td>Full Price</td>\n",
       "    </tr>\n",
       "    <tr>\n",
       "      <th>2148</th>\n",
       "      <td>11077/55</td>\n",
       "      <td>11077</td>\n",
       "      <td>55</td>\n",
       "      <td>24.00</td>\n",
       "      <td>2</td>\n",
       "      <td>0.00</td>\n",
       "      <td>Full Price</td>\n",
       "    </tr>\n",
       "    <tr>\n",
       "      <th>2149</th>\n",
       "      <td>11077/60</td>\n",
       "      <td>11077</td>\n",
       "      <td>60</td>\n",
       "      <td>34.00</td>\n",
       "      <td>2</td>\n",
       "      <td>0.06</td>\n",
       "      <td>Discounted</td>\n",
       "    </tr>\n",
       "    <tr>\n",
       "      <th>2150</th>\n",
       "      <td>11077/64</td>\n",
       "      <td>11077</td>\n",
       "      <td>64</td>\n",
       "      <td>33.25</td>\n",
       "      <td>2</td>\n",
       "      <td>0.03</td>\n",
       "      <td>Discounted</td>\n",
       "    </tr>\n",
       "    <tr>\n",
       "      <th>2151</th>\n",
       "      <td>11077/66</td>\n",
       "      <td>11077</td>\n",
       "      <td>66</td>\n",
       "      <td>17.00</td>\n",
       "      <td>1</td>\n",
       "      <td>0.00</td>\n",
       "      <td>Full Price</td>\n",
       "    </tr>\n",
       "    <tr>\n",
       "      <th>2152</th>\n",
       "      <td>11077/73</td>\n",
       "      <td>11077</td>\n",
       "      <td>73</td>\n",
       "      <td>15.00</td>\n",
       "      <td>2</td>\n",
       "      <td>0.01</td>\n",
       "      <td>Discounted</td>\n",
       "    </tr>\n",
       "    <tr>\n",
       "      <th>2153</th>\n",
       "      <td>11077/75</td>\n",
       "      <td>11077</td>\n",
       "      <td>75</td>\n",
       "      <td>7.75</td>\n",
       "      <td>4</td>\n",
       "      <td>0.00</td>\n",
       "      <td>Full Price</td>\n",
       "    </tr>\n",
       "    <tr>\n",
       "      <th>2154</th>\n",
       "      <td>11077/77</td>\n",
       "      <td>11077</td>\n",
       "      <td>77</td>\n",
       "      <td>13.00</td>\n",
       "      <td>2</td>\n",
       "      <td>0.00</td>\n",
       "      <td>Full Price</td>\n",
       "    </tr>\n",
       "  </tbody>\n",
       "</table>\n",
       "<p>2155 rows × 7 columns</p>\n",
       "</div>"
      ],
      "text/plain": [
       "            Id  OrderId  ProductId  UnitPrice  Quantity  Discount  discounted\n",
       "0     10248/11    10248         11      14.00        12      0.00  Full Price\n",
       "1     10248/42    10248         42       9.80        10      0.00  Full Price\n",
       "2     10248/72    10248         72      34.80         5      0.00  Full Price\n",
       "3     10249/14    10249         14      18.60         9      0.00  Full Price\n",
       "4     10249/51    10249         51      42.40        40      0.00  Full Price\n",
       "5     10250/41    10250         41       7.70        10      0.00  Full Price\n",
       "6     10250/51    10250         51      42.40        35      0.15  Discounted\n",
       "7     10250/65    10250         65      16.80        15      0.15  Discounted\n",
       "8     10251/22    10251         22      16.80         6      0.05  Discounted\n",
       "9     10251/57    10251         57      15.60        15      0.05  Discounted\n",
       "10    10251/65    10251         65      16.80        20      0.00  Full Price\n",
       "11    10252/20    10252         20      64.80        40      0.05  Discounted\n",
       "12    10252/33    10252         33       2.00        25      0.05  Discounted\n",
       "13    10252/60    10252         60      27.20        40      0.00  Full Price\n",
       "14    10253/31    10253         31      10.00        20      0.00  Full Price\n",
       "15    10253/39    10253         39      14.40        42      0.00  Full Price\n",
       "16    10253/49    10253         49      16.00        40      0.00  Full Price\n",
       "17    10254/24    10254         24       3.60        15      0.15  Discounted\n",
       "18    10254/55    10254         55      19.20        21      0.15  Discounted\n",
       "19    10254/74    10254         74       8.00        21      0.00  Full Price\n",
       "20     10255/2    10255          2      15.20        20      0.00  Full Price\n",
       "21    10255/16    10255         16      13.90        35      0.00  Full Price\n",
       "22    10255/36    10255         36      15.20        25      0.00  Full Price\n",
       "23    10255/59    10255         59      44.00        30      0.00  Full Price\n",
       "24    10256/53    10256         53      26.20        15      0.00  Full Price\n",
       "25    10256/77    10256         77      10.40        12      0.00  Full Price\n",
       "26    10257/27    10257         27      35.10        25      0.00  Full Price\n",
       "27    10257/39    10257         39      14.40         6      0.00  Full Price\n",
       "28    10257/77    10257         77      10.40        15      0.00  Full Price\n",
       "29     10258/2    10258          2      15.20        50      0.20  Discounted\n",
       "...        ...      ...        ...        ...       ...       ...         ...\n",
       "2125  11075/46    11075         46      12.00        30      0.15  Discounted\n",
       "2126  11075/76    11075         76      18.00         2      0.15  Discounted\n",
       "2127   11076/6    11076          6      25.00        20      0.25  Discounted\n",
       "2128  11076/14    11076         14      23.25        20      0.25  Discounted\n",
       "2129  11076/19    11076         19       9.20        10      0.25  Discounted\n",
       "2130   11077/2    11077          2      19.00        24      0.20  Discounted\n",
       "2131   11077/3    11077          3      10.00         4      0.00  Full Price\n",
       "2132   11077/4    11077          4      22.00         1      0.00  Full Price\n",
       "2133   11077/6    11077          6      25.00         1      0.02  Discounted\n",
       "2134   11077/7    11077          7      30.00         1      0.05  Discounted\n",
       "2135   11077/8    11077          8      40.00         2      0.10  Discounted\n",
       "2136  11077/10    11077         10      31.00         1      0.00  Full Price\n",
       "2137  11077/12    11077         12      38.00         2      0.05  Discounted\n",
       "2138  11077/13    11077         13       6.00         4      0.00  Full Price\n",
       "2139  11077/14    11077         14      23.25         1      0.03  Discounted\n",
       "2140  11077/16    11077         16      17.45         2      0.03  Discounted\n",
       "2141  11077/20    11077         20      81.00         1      0.04  Discounted\n",
       "2142  11077/23    11077         23       9.00         2      0.00  Full Price\n",
       "2143  11077/32    11077         32      32.00         1      0.00  Full Price\n",
       "2144  11077/39    11077         39      18.00         2      0.05  Discounted\n",
       "2145  11077/41    11077         41       9.65         3      0.00  Full Price\n",
       "2146  11077/46    11077         46      12.00         3      0.02  Discounted\n",
       "2147  11077/52    11077         52       7.00         2      0.00  Full Price\n",
       "2148  11077/55    11077         55      24.00         2      0.00  Full Price\n",
       "2149  11077/60    11077         60      34.00         2      0.06  Discounted\n",
       "2150  11077/64    11077         64      33.25         2      0.03  Discounted\n",
       "2151  11077/66    11077         66      17.00         1      0.00  Full Price\n",
       "2152  11077/73    11077         73      15.00         2      0.01  Discounted\n",
       "2153  11077/75    11077         75       7.75         4      0.00  Full Price\n",
       "2154  11077/77    11077         77      13.00         2      0.00  Full Price\n",
       "\n",
       "[2155 rows x 7 columns]"
      ]
     },
     "execution_count": 50,
     "metadata": {},
     "output_type": "execute_result"
    }
   ],
   "source": [
    "## Create 'discounted' column for groupby \n",
    "df_order_details['discounted'] = df_order_details['Discount']>0\n",
    "df_order_details['discounted'] = df_order_details['discounted'].map({True:'Discounted',False:'Full Price'})\n",
    "df_order_details"
   ]
  },
  {
   "cell_type": "code",
   "execution_count": 51,
   "metadata": {},
   "outputs": [
    {
     "name": "stderr",
     "output_type": "stream",
     "text": [
      "/Users/SusannaVSyassen/anaconda3/envs/learn-env/lib/python3.6/site-packages/scipy/stats/stats.py:1713: FutureWarning: Using a non-tuple sequence for multidimensional indexing is deprecated; use `arr[tuple(seq)]` instead of `arr[seq]`. In the future this will be interpreted as an array index, `arr[np.array(seq)]`, which will result either in an error or a different result.\n",
      "  return np.add.reduce(sorted[indexer] * weights, axis=axis) / sumval\n"
     ]
    },
    {
     "data": {
      "text/plain": [
       "<matplotlib.axes._subplots.AxesSubplot at 0x1c24b88ef0>"
      ]
     },
     "execution_count": 51,
     "metadata": {},
     "output_type": "execute_result"
    },
    {
     "data": {
      "image/png": "[encoded data removed]",
      "text/plain": [
       "<Figure size 432x288 with 1 Axes>"
      ]
     },
     "metadata": {
      "needs_background": "light"
     },
     "output_type": "display_data"
    }
   ],
   "source": [
    "sns.barplot(data=df_order_details, x='discounted',y='Quantity',ci=68,)"
   ]
  },
  {
   "cell_type": "code",
   "execution_count": 52,
   "metadata": {},
   "outputs": [
    {
     "data": {
      "text/plain": [
       "{'Full Price': 0        12\n",
       " 1        10\n",
       " 2         5\n",
       " 3         9\n",
       " 4        40\n",
       " 5        10\n",
       " 10       20\n",
       " 13       40\n",
       " 14       20\n",
       " 15       42\n",
       " 16       40\n",
       " 19       21\n",
       " 20       20\n",
       " 21       35\n",
       " 22       25\n",
       " 23       30\n",
       " 24       15\n",
       " 25       12\n",
       " 26       25\n",
       " 27        6\n",
       " 28       15\n",
       " 32       10\n",
       " 33        1\n",
       " 35       50\n",
       " 38       20\n",
       " 39       20\n",
       " 41       15\n",
       " 42        2\n",
       " 44       28\n",
       " 47       35\n",
       "        ... \n",
       " 2088      4\n",
       " 2089     10\n",
       " 2090     15\n",
       " 2093     30\n",
       " 2097     12\n",
       " 2100     55\n",
       " 2103      3\n",
       " 2104     42\n",
       " 2105     35\n",
       " 2106      9\n",
       " 2110     20\n",
       " 2114     20\n",
       " 2117      8\n",
       " 2118     40\n",
       " 2119     22\n",
       " 2120    130\n",
       " 2121     10\n",
       " 2122     20\n",
       " 2131      4\n",
       " 2132      1\n",
       " 2136      1\n",
       " 2138      4\n",
       " 2142      2\n",
       " 2143      1\n",
       " 2145      3\n",
       " 2147      2\n",
       " 2148      2\n",
       " 2151      1\n",
       " 2153      4\n",
       " 2154      2\n",
       " Name: Quantity, Length: 1317, dtype: int64, 'Discounted': 6       35\n",
       " 7       15\n",
       " 8        6\n",
       " 9       15\n",
       " 11      40\n",
       " 12      25\n",
       " 17      15\n",
       " 18      21\n",
       " 29      50\n",
       " 30      65\n",
       " 31       6\n",
       " 34      16\n",
       " 36      15\n",
       " 37      21\n",
       " 40      12\n",
       " 43      60\n",
       " 45      60\n",
       " 46      36\n",
       " 48      25\n",
       " 51      12\n",
       " 53      70\n",
       " 54      15\n",
       " 57      60\n",
       " 58      20\n",
       " 65      24\n",
       " 66      15\n",
       " 68      60\n",
       " 69      33\n",
       " 72      12\n",
       " 73       6\n",
       "         ..\n",
       " 2101     4\n",
       " 2102    20\n",
       " 2107     8\n",
       " 2108    36\n",
       " 2109    28\n",
       " 2111    40\n",
       " 2112    20\n",
       " 2113    30\n",
       " 2115    15\n",
       " 2116    10\n",
       " 2123    14\n",
       " 2124    10\n",
       " 2125    30\n",
       " 2126     2\n",
       " 2127    20\n",
       " 2128    20\n",
       " 2129    10\n",
       " 2130    24\n",
       " 2133     1\n",
       " 2134     1\n",
       " 2135     2\n",
       " 2137     2\n",
       " 2139     1\n",
       " 2140     2\n",
       " 2141     1\n",
       " 2144     2\n",
       " 2146     3\n",
       " 2149     2\n",
       " 2150     2\n",
       " 2152     2\n",
       " Name: Quantity, Length: 838, dtype: int64}"
      ]
     },
     "execution_count": 52,
     "metadata": {},
     "output_type": "execute_result"
    }
   ],
   "source": [
    "grps = {}\n",
    "for grp_name in df_order_details['discounted'].unique():\n",
    "    grps[grp_name] = df_order_details.groupby('discounted').get_group(grp_name)['Quantity']\n",
    "    \n",
    "grps"
   ]
  },
  {
   "cell_type": "code",
   "execution_count": 53,
   "metadata": {},
   "outputs": [
    {
     "name": "stderr",
     "output_type": "stream",
     "text": [
      "/Users/SusannaVSyassen/anaconda3/envs/learn-env/lib/python3.6/site-packages/scipy/stats/stats.py:1713: FutureWarning: Using a non-tuple sequence for multidimensional indexing is deprecated; use `arr[tuple(seq)]` instead of `arr[seq]`. In the future this will be interpreted as an array index, `arr[np.array(seq)]`, which will result either in an error or a different result.\n",
      "  return np.add.reduce(sorted[indexer] * weights, axis=axis) / sumval\n"
     ]
    },
    {
     "data": {
      "image/png": "[encoded data removed]",
      "text/plain": [
       "<Figure size 2160x720 with 1 Axes>"
      ]
     },
     "metadata": {
      "needs_background": "light"
     },
     "output_type": "display_data"
    }
   ],
   "source": [
    "plt.figure(figsize=(30, 10))\n",
    "[sns.distplot(v,label=k) for k,v in grps.items()]\n",
    "plt.legend()\n",
    "plt.legend(fontsize=20);"
   ]
  },
  {
   "cell_type": "markdown",
   "metadata": {},
   "source": [
    "********************************"
   ]
  },
  {
   "cell_type": "markdown",
   "metadata": {},
   "source": [
    "## STEP 2: Validate Assumptions chosen test"
   ]
  },
  {
   "cell_type": "markdown",
   "metadata": {},
   "source": [
    "For the Independent 2 Sample T-Test the assumptions are:\n",
    "\n",
    "- There exists NO significant outliers\n",
    "\n",
    "- Normality is true\n",
    "\n",
    "- Equal Variance is true"
   ]
  },
  {
   "cell_type": "markdown",
   "metadata": {},
   "source": [
    "### Check and Remove Outliers"
   ]
  },
  {
   "cell_type": "markdown",
   "metadata": {},
   "source": [
    "Use absolutely value of Z-scores >3 as rule to find and remove outliers"
   ]
  },
  {
   "cell_type": "code",
   "execution_count": 54,
   "metadata": {},
   "outputs": [],
   "source": [
    "from functions import find_outliers_Z"
   ]
  },
  {
   "cell_type": "code",
   "execution_count": 55,
   "metadata": {},
   "outputs": [
    {
     "name": "stdout",
     "output_type": "stream",
     "text": [
      "[i] Found 20 outliers using Z-score method for Full Price.\n",
      "[i] Found 15 outliers using Z-score method for Discounted.\n"
     ]
    }
   ],
   "source": [
    "outliers_dict = []\n",
    "for grp_name,grp_data in grps.items():\n",
    "    idx_outs = find_outliers_Z(grp_data)\n",
    "    print(f\"[i] Found {idx_outs.sum()} outliers using Z-score method for {grp_name}.\")\n",
    "    outliers_dict.append(idx_outs)\n",
    "    grps[grp_name] = grp_data[~idx_outs]"
   ]
  },
  {
   "cell_type": "code",
   "execution_count": 56,
   "metadata": {},
   "outputs": [],
   "source": [
    "all_outliers_combined = pd.concat([*outliers_dict])"
   ]
  },
  {
   "cell_type": "code",
   "execution_count": 57,
   "metadata": {},
   "outputs": [
    {
     "name": "stderr",
     "output_type": "stream",
     "text": [
      "/Users/SusannaVSyassen/anaconda3/envs/learn-env/lib/python3.6/site-packages/scipy/stats/stats.py:1713: FutureWarning: Using a non-tuple sequence for multidimensional indexing is deprecated; use `arr[tuple(seq)]` instead of `arr[seq]`. In the future this will be interpreted as an array index, `arr[np.array(seq)]`, which will result either in an error or a different result.\n",
      "  return np.add.reduce(sorted[indexer] * weights, axis=axis) / sumval\n"
     ]
    },
    {
     "data": {
      "image/png": "[encoded data removed]",
      "text/plain": [
       "<Figure size 1440x720 with 1 Axes>"
      ]
     },
     "metadata": {
      "needs_background": "light"
     },
     "output_type": "display_data"
    }
   ],
   "source": [
    "plt.figure(figsize=(20, 10))\n",
    "[sns.distplot(v,label=k) for k,v in grps.items()]\n",
    "ax = plt.gca()\n",
    "ax.legend()\n",
    "ax.set(title='Quantity on Full Price vs Discounted Products',\n",
    "ylabel='Density')\n",
    "plt.legend(fontsize=20);"
   ]
  },
  {
   "cell_type": "markdown",
   "metadata": {},
   "source": [
    "### Test for Normality"
   ]
  },
  {
   "cell_type": "markdown",
   "metadata": {},
   "source": [
    "Test Assumption of Normality using D'Agostino-Pearson's normality test scipy.stats.normaltest\n"
   ]
  },
  {
   "cell_type": "code",
   "execution_count": 58,
   "metadata": {},
   "outputs": [
    {
     "name": "stdout",
     "output_type": "stream",
     "text": [
      "Group Full Price Normaltest p-value=0.0\n",
      "\t-The data is NOT normal.\n",
      "Group Discounted Normaltest p-value=0.0\n",
      "\t-The data is NOT normal.\n"
     ]
    }
   ],
   "source": [
    "for k,v in grps.items():\n",
    "    stat,p = stats.normaltest(v)\n",
    "    print(f\"Group {k} Normaltest p-value={round(p,4)}\")\n",
    "    sig = 'is NOT' if p<.05 else 'IS'\n",
    "\n",
    "    print(f\"\\t-The data {sig} normal.\")"
   ]
  },
  {
   "cell_type": "markdown",
   "metadata": {},
   "source": [
    "If there is normal data move onto assumption testing assumption of equal variance.\n",
    "The data is NOT normal, Check if your group sizes (n) are big enough to safely ignore normality assumption? (see size definitions below)\n",
    "\n",
    "Parametric Test\tSample size guidelines for nonnormal data\n",
    "- 1-sample t test\tGreater than 20\n",
    "- 2-sample t test\tEach group should be greater than 15   \n",
    "- One-Way ANOVA\tIf have 2-9 groups, each group n >= 15\n",
    "  If have 10-12 groups, each group n>20.\n",
    "\n",
    "If the group N's are NOT large enough:\n",
    "Move onto selecting the non-parametric version of the t-test\n",
    "\n",
    ">As we are doing a 2-Sample T Test, check if the group n>= 15."
   ]
  },
  {
   "cell_type": "markdown",
   "metadata": {},
   "source": [
    "#### Check group size"
   ]
  },
  {
   "cell_type": "code",
   "execution_count": 59,
   "metadata": {},
   "outputs": [
    {
     "name": "stdout",
     "output_type": "stream",
     "text": [
      "Total size n for Full Price is 1297\n",
      "Total size n for Discounted is 823\n"
     ]
    }
   ],
   "source": [
    "for grp_name,grp_data in grps.items():\n",
    "    print(f\"Total size n for {grp_name} is {len(grps[grp_name])}\")"
   ]
  },
  {
   "cell_type": "markdown",
   "metadata": {},
   "source": [
    ">Group size is large enough (>15) to safely ignore normality assumption to continue 2 Sample T-Test"
   ]
  },
  {
   "cell_type": "markdown",
   "metadata": {},
   "source": [
    "### Test for Equal Variance"
   ]
  },
  {
   "cell_type": "markdown",
   "metadata": {},
   "source": [
    "- If it fails the assumption of equal variance: Use a Welch's T-Test. \n",
    "    (For scipy, add equal_var=False to ttest_ind)\n",
    "- If it passes the assumption of equal variance: Use a regular 2-sample t-test."
   ]
  },
  {
   "cell_type": "code",
   "execution_count": 60,
   "metadata": {},
   "outputs": [],
   "source": [
    "data=[]\n",
    "for k,v in grps.items():\n",
    "\n",
    "    data.append(v.values)"
   ]
  },
  {
   "cell_type": "code",
   "execution_count": 61,
   "metadata": {},
   "outputs": [
    {
     "name": "stdout",
     "output_type": "stream",
     "text": [
      "Levene' Test for Equal Variance p-value=0.0\n",
      "\t-The groups do NOT have equal variance.\n"
     ]
    }
   ],
   "source": [
    "stat,p = stats.levene(*data)\n",
    "print(f\"Levene' Test for Equal Variance p-value={round(p,4)}\")\n",
    "sig = 'do NOT' if p<.05 else 'DO'\n",
    "\n",
    "print(f\"\\t-The groups {sig} have equal variance.\")"
   ]
  },
  {
   "cell_type": "markdown",
   "metadata": {},
   "source": [
    "If the resulting p-value of Levene's test is less than the p-value 0.05, the obtained differences in sample variances are unlikely to have occurred based on random sampling from a population with equal variances.\n",
    "\n",
    ">Equal Variance test failed, run Welch's T-Test\n",
    "\n",
    "\n",
    "Traditional t-tests assume that sample sizes and sample variances between the two groups are equal. \n",
    "When these assumptions are not met, Welch's t-test is generally a more reliable test."
   ]
  },
  {
   "cell_type": "markdown",
   "metadata": {},
   "source": [
    "********************************"
   ]
  },
  {
   "cell_type": "markdown",
   "metadata": {},
   "source": [
    "## Step 3: Interpret Result & Post-Hoc Tests"
   ]
  },
  {
   "cell_type": "markdown",
   "metadata": {},
   "source": [
    "### Run Welch's T-Test"
   ]
  },
  {
   "cell_type": "code",
   "execution_count": 62,
   "metadata": {},
   "outputs": [
    {
     "name": "stdout",
     "output_type": "stream",
     "text": [
      "Welch's T-Test p-value=0.0\n"
     ]
    }
   ],
   "source": [
    "stat,p = ttest_ind(grps['Full Price'],grps['Discounted'], equal_var=False)\n",
    "print(f\"Welch's T-Test p-value={round(p,5)}\")"
   ]
  },
  {
   "cell_type": "markdown",
   "metadata": {},
   "source": [
    "If the P-Value is < $\\alpha$:  \n",
    "- Reject the null hypothesis\n",
    "- Calculate the effect size (e.g. Cohen's $d$)\n",
    "\n",
    "If the P-Value <$\\alpha$ AND you have multiple groups: \n",
    "- Run ANOVA Test\n",
    "- Run a pairwise Tukey's test to know which groups were significantly different\n",
    "- Report statistical power (optional)"
   ]
  },
  {
   "cell_type": "markdown",
   "metadata": {},
   "source": [
    ">As the results showed NO equal variance or normality add parameter equal_var=false to the 2 Sample T-Test, >this should match Welch's T-Test results.\n",
    "\n",
    "The two-sample t-test is used to determine if two population means are equal.\n",
    "\n",
    "($\\alpha$) is set to 0.05 or 5%: This the $\\alpha$ value we are comfortable with for making a Type I error.\n",
    "\n",
    "In order to reduce the probability of type errors, it is best to have a large sample.\n",
    "\n",
    "- Type I error: reject alternative hypothesis  but the discount has no effect on quantity purchased.\n",
    "\n",
    "- Type II error: accept null hypothesis but the discount has effect on quantity purchased.\n"
   ]
  },
  {
   "cell_type": "markdown",
   "metadata": {},
   "source": [
    "P-Value is < 0.5, Reject the null hypothesis\n",
    "\n",
    "- $H_1$: Discount amount DOES have a statistically significant effect on the quantity of a product in an order.  \n",
    "- $H_0$: Discount amount DOES NOT have a statistically significant effect on the quantity of a product in an order.\n"
   ]
  },
  {
   "cell_type": "markdown",
   "metadata": {},
   "source": [
    ">We now need to continue to discover why the results show that discount DOES have a significant on price >(h1)"
   ]
  },
  {
   "cell_type": "markdown",
   "metadata": {},
   "source": [
    "### Effect Size"
   ]
  },
  {
   "cell_type": "markdown",
   "metadata": {},
   "source": [
    "How big is the difference between the two groups where discount amount DOES have a statistically significant effect on the quantity of a product in an order?\n",
    "\n",
    "Calculate the effect size using Cohen's $d$"
   ]
  },
  {
   "cell_type": "markdown",
   "metadata": {},
   "source": [
    "#### Cohen's d"
   ]
  },
  {
   "cell_type": "code",
   "execution_count": 63,
   "metadata": {},
   "outputs": [
    {
     "name": "stdout",
     "output_type": "stream",
     "text": [
      "Cohens D result = 0.32001\n"
     ]
    }
   ],
   "source": [
    "d=Cohen_d(grps['Discounted'],grps['Full Price'])\n",
    "#catch output and round down\n",
    "print(f\"Cohens D result = {round(d,5)}\")"
   ]
  },
  {
   "cell_type": "markdown",
   "metadata": {},
   "source": [
    "The details below define how to read the results for Cohen's D:\n",
    "- Small effect = 0.2 (cannot be seen by naked eye) \n",
    "- Medium effect = 0.5 \n",
    "- Large Effect = 0.8 (can be seen by naked eye)\n",
    "\n",
    ">This Cohen's d value = 0.32001, therefore discount is slighly larger than a SMALL EFFECT on the quantity of product sold."
   ]
  },
  {
   "cell_type": "markdown",
   "metadata": {},
   "source": [
    "### Multi Sample Data Setup"
   ]
  },
  {
   "cell_type": "markdown",
   "metadata": {},
   "source": [
    "As the P-Value < .05 AND we have multiple groups run ANOVA to see further the difference between the groups.\n",
    "ANOVA (Analysis of Variance) is a method for generalizing statistical tests to multiple groups."
   ]
  },
  {
   "cell_type": "markdown",
   "metadata": {},
   "source": [
    ">Setup and Analyze multi sample data for ANOVA and Tukeys"
   ]
  },
  {
   "cell_type": "code",
   "execution_count": 80,
   "metadata": {},
   "outputs": [
    {
     "data": {
      "text/plain": [
       "{0.0: 0       12\n",
       " 1       10\n",
       " 2        5\n",
       " 3        9\n",
       " 4       40\n",
       " 5       10\n",
       " 10      20\n",
       " 13      40\n",
       " 14      20\n",
       " 15      42\n",
       " 16      40\n",
       " 19      21\n",
       " 20      20\n",
       " 21      35\n",
       " 22      25\n",
       " 23      30\n",
       " 24      15\n",
       " 25      12\n",
       " 26      25\n",
       " 27       6\n",
       " 28      15\n",
       " 32      10\n",
       " 33       1\n",
       " 35      50\n",
       " 38      20\n",
       " 39      20\n",
       " 41      15\n",
       " 42       2\n",
       " 44      28\n",
       " 47      35\n",
       "         ..\n",
       " 2087    35\n",
       " 2088     4\n",
       " 2089    10\n",
       " 2090    15\n",
       " 2093    30\n",
       " 2097    12\n",
       " 2100    55\n",
       " 2103     3\n",
       " 2104    42\n",
       " 2105    35\n",
       " 2106     9\n",
       " 2110    20\n",
       " 2114    20\n",
       " 2117     8\n",
       " 2118    40\n",
       " 2119    22\n",
       " 2121    10\n",
       " 2122    20\n",
       " 2131     4\n",
       " 2132     1\n",
       " 2136     1\n",
       " 2138     4\n",
       " 2142     2\n",
       " 2143     1\n",
       " 2145     3\n",
       " 2147     2\n",
       " 2148     2\n",
       " 2151     1\n",
       " 2153     4\n",
       " 2154     2\n",
       " Name: Quantity, Length: 1297, dtype: int64, 0.15: 6       35\n",
       " 7       15\n",
       " 17      15\n",
       " 18      21\n",
       " 48      25\n",
       " 53      70\n",
       " 54      15\n",
       " 104     40\n",
       " 106     15\n",
       " 196     21\n",
       " 197     70\n",
       " 199     40\n",
       " 200     80\n",
       " 220     50\n",
       " 221     25\n",
       " 250      9\n",
       " 266     50\n",
       " 268      6\n",
       " 269     15\n",
       " 279     20\n",
       " 326     15\n",
       " 328     20\n",
       " 341     20\n",
       " 342     20\n",
       " 397     10\n",
       " 398     18\n",
       " 414     21\n",
       " 415     70\n",
       " 463      4\n",
       " 465     15\n",
       "         ..\n",
       " 1757    12\n",
       " 1774    42\n",
       " 1793    10\n",
       " 1794    40\n",
       " 1829    28\n",
       " 1830    25\n",
       " 1832    24\n",
       " 1843    20\n",
       " 1853     2\n",
       " 1859    12\n",
       " 1860    12\n",
       " 1882    20\n",
       " 1883    40\n",
       " 1885     6\n",
       " 1896    84\n",
       " 1917    60\n",
       " 1918    65\n",
       " 1919    66\n",
       " 1948    15\n",
       " 1949    24\n",
       " 1993    24\n",
       " 2107     8\n",
       " 2108    36\n",
       " 2109    28\n",
       " 2111    40\n",
       " 2112    20\n",
       " 2113    30\n",
       " 2124    10\n",
       " 2125    30\n",
       " 2126     2\n",
       " Name: Quantity, Length: 154, dtype: int64, 0.05: 8        6\n",
       " 9       15\n",
       " 11      40\n",
       " 12      25\n",
       " 51      12\n",
       " 57      60\n",
       " 58      20\n",
       " 65      24\n",
       " 66      15\n",
       " 68      60\n",
       " 69      33\n",
       " 72      12\n",
       " 73       6\n",
       " 216     10\n",
       " 217      8\n",
       " 218     20\n",
       " 219     12\n",
       " 244     70\n",
       " 246     20\n",
       " 247     12\n",
       " 248     40\n",
       " 256      4\n",
       " 274     20\n",
       " 276     77\n",
       " 277     10\n",
       " 292     10\n",
       " 293     10\n",
       " 294     20\n",
       " 295     56\n",
       " 296     70\n",
       "         ..\n",
       " 1689    28\n",
       " 1690    50\n",
       " 1712    20\n",
       " 1715    20\n",
       " 1716    14\n",
       " 1822    15\n",
       " 1823     6\n",
       " 1824    50\n",
       " 1825    16\n",
       " 1827    50\n",
       " 1828    50\n",
       " 1846     6\n",
       " 1926    18\n",
       " 1937    20\n",
       " 1938    15\n",
       " 1939    21\n",
       " 1963    70\n",
       " 1971    40\n",
       " 1973    50\n",
       " 1974    36\n",
       " 1975    60\n",
       " 2057    20\n",
       " 2058    15\n",
       " 2059    18\n",
       " 2115    15\n",
       " 2116    10\n",
       " 2123    14\n",
       " 2134     1\n",
       " 2137     2\n",
       " 2144     2\n",
       " Name: Quantity, Length: 181, dtype: int64, 0.2: 29      50\n",
       " 30      65\n",
       " 31       6\n",
       " 40      12\n",
       " 99      45\n",
       " 100     40\n",
       " 101     36\n",
       " 209     25\n",
       " 210     50\n",
       " 211     35\n",
       " 212     30\n",
       " 223     40\n",
       " 224     10\n",
       " 225     16\n",
       " 231      7\n",
       " 232     25\n",
       " 233      6\n",
       " 234     48\n",
       " 251     24\n",
       " 252     56\n",
       " 253     40\n",
       " 254     40\n",
       " 280     12\n",
       " 281     50\n",
       " 289     30\n",
       " 291      8\n",
       " 329      6\n",
       " 334     80\n",
       " 335     50\n",
       " 362     10\n",
       "         ..\n",
       " 1571    60\n",
       " 1572    36\n",
       " 1573    45\n",
       " 1574    55\n",
       " 1656    30\n",
       " 1657    30\n",
       " 1658    50\n",
       " 1750    10\n",
       " 1751    10\n",
       " 1752    24\n",
       " 1772    25\n",
       " 1773    30\n",
       " 1786    30\n",
       " 1833    12\n",
       " 1867    40\n",
       " 1892    40\n",
       " 1920    50\n",
       " 1921    20\n",
       " 2041     5\n",
       " 2049    30\n",
       " 2063    10\n",
       " 2064     4\n",
       " 2066    10\n",
       " 2067    30\n",
       " 2068    10\n",
       " 2069    35\n",
       " 2071    25\n",
       " 2091    10\n",
       " 2092    12\n",
       " 2130    24\n",
       " Name: Quantity, Length: 159, dtype: int64, 0.25: 34      16\n",
       " 36      15\n",
       " 37      21\n",
       " 43      60\n",
       " 45      60\n",
       " 46      36\n",
       " 82      15\n",
       " 95      15\n",
       " 97      20\n",
       " 98       5\n",
       " 135     40\n",
       " 136     30\n",
       " 259     70\n",
       " 325     18\n",
       " 330     12\n",
       " 331     40\n",
       " 332     70\n",
       " 333     42\n",
       " 384     25\n",
       " 385     42\n",
       " 386      7\n",
       " 387     70\n",
       " 450      2\n",
       " 451     36\n",
       " 473     10\n",
       " 474     20\n",
       " 480     35\n",
       " 485     50\n",
       " 486     50\n",
       " 487     30\n",
       "         ..\n",
       " 1789    20\n",
       " 1790    24\n",
       " 1791    49\n",
       " 1792    35\n",
       " 1797    44\n",
       " 1798    30\n",
       " 1799    80\n",
       " 1805     5\n",
       " 1806    18\n",
       " 1844    10\n",
       " 1924    50\n",
       " 1925    35\n",
       " 1931    20\n",
       " 1932    20\n",
       " 1940    25\n",
       " 1941    30\n",
       " 1959     2\n",
       " 1967    18\n",
       " 1994    11\n",
       " 1997    44\n",
       " 2011    30\n",
       " 2012    21\n",
       " 2019    60\n",
       " 2060    25\n",
       " 2061    30\n",
       " 2101     4\n",
       " 2102    20\n",
       " 2127    20\n",
       " 2128    20\n",
       " 2129    10\n",
       " Name: Quantity, Length: 151, dtype: int64, 0.1: 107     10\n",
       " 108      3\n",
       " 115     20\n",
       " 116     24\n",
       " 117      2\n",
       " 147     40\n",
       " 148     30\n",
       " 149     15\n",
       " 153     25\n",
       " 154     25\n",
       " 155     30\n",
       " 177     40\n",
       " 178     30\n",
       " 179     25\n",
       " 227     10\n",
       " 228     40\n",
       " 235     18\n",
       " 263     36\n",
       " 272     15\n",
       " 273     18\n",
       " 303     54\n",
       " 304     55\n",
       " 320      5\n",
       " 321     13\n",
       " 323     35\n",
       " 344      8\n",
       " 345     16\n",
       " 346     20\n",
       " 347     18\n",
       " 348     20\n",
       "         ..\n",
       " 1547    30\n",
       " 1548    15\n",
       " 1561    70\n",
       " 1562    25\n",
       " 1563    42\n",
       " 1564    60\n",
       " 1628    42\n",
       " 1646    21\n",
       " 1753    20\n",
       " 1754    30\n",
       " 1776    30\n",
       " 1777    14\n",
       " 1779    20\n",
       " 1901    36\n",
       " 1902     8\n",
       " 1903    35\n",
       " 1912    40\n",
       " 1980    28\n",
       " 2007    10\n",
       " 2008    20\n",
       " 2029    70\n",
       " 2030    36\n",
       " 2031    15\n",
       " 2065    50\n",
       " 2094    40\n",
       " 2095    30\n",
       " 2096    77\n",
       " 2098    25\n",
       " 2099     4\n",
       " 2135     2\n",
       " Name: Quantity, Length: 170, dtype: int64, 0.02: 2133    1\n",
       " 2146    3\n",
       " Name: Quantity, dtype: int64, 0.03: 2139    1\n",
       " 2140    2\n",
       " 2150    2\n",
       " Name: Quantity, dtype: int64, 0.04: 2141    1\n",
       " Name: Quantity, dtype: int64, 0.06: 2149    2\n",
       " Name: Quantity, dtype: int64, 0.01: 2152    2\n",
       " Name: Quantity, dtype: int64}"
      ]
     },
     "execution_count": 80,
     "metadata": {},
     "output_type": "execute_result"
    }
   ],
   "source": [
    "grps = {}\n",
    "for grp_name in df_order_details['Discount'].unique():\n",
    "    grps[grp_name] = df_order_details.groupby('Discount').get_group(grp_name)['Quantity']\n",
    "    \n",
    "grps"
   ]
  },
  {
   "cell_type": "code",
   "execution_count": 65,
   "metadata": {},
   "outputs": [
    {
     "name": "stderr",
     "output_type": "stream",
     "text": [
      "/Users/SusannaVSyassen/anaconda3/envs/learn-env/lib/python3.6/site-packages/scipy/stats/stats.py:1713: FutureWarning: Using a non-tuple sequence for multidimensional indexing is deprecated; use `arr[tuple(seq)]` instead of `arr[seq]`. In the future this will be interpreted as an array index, `arr[np.array(seq)]`, which will result either in an error or a different result.\n",
      "  return np.add.reduce(sorted[indexer] * weights, axis=axis) / sumval\n",
      "/Users/SusannaVSyassen/anaconda3/envs/learn-env/lib/python3.6/site-packages/numpy/core/_methods.py:217: RuntimeWarning: Degrees of freedom <= 0 for slice\n",
      "  keepdims=keepdims)\n",
      "/Users/SusannaVSyassen/anaconda3/envs/learn-env/lib/python3.6/site-packages/numpy/core/_methods.py:209: RuntimeWarning: invalid value encountered in double_scalars\n",
      "  ret = ret.dtype.type(ret / rcount)\n"
     ]
    },
    {
     "data": {
      "image/png": "[encoded data removed]",
      "text/plain": [
       "<Figure size 1440x720 with 1 Axes>"
      ]
     },
     "metadata": {
      "needs_background": "light"
     },
     "output_type": "display_data"
    }
   ],
   "source": [
    "plt.figure(figsize=(20, 10))\n",
    "[sns.distplot(v,label=k) for k,v in grps.items()]\n",
    "plt.legend()\n",
    "plt.legend(fontsize=20);"
   ]
  },
  {
   "cell_type": "code",
   "execution_count": 66,
   "metadata": {
    "scrolled": true
   },
   "outputs": [
    {
     "name": "stderr",
     "output_type": "stream",
     "text": [
      "/Users/SusannaVSyassen/anaconda3/envs/learn-env/lib/python3.6/site-packages/scipy/stats/stats.py:1713: FutureWarning: Using a non-tuple sequence for multidimensional indexing is deprecated; use `arr[tuple(seq)]` instead of `arr[seq]`. In the future this will be interpreted as an array index, `arr[np.array(seq)]`, which will result either in an error or a different result.\n",
      "  return np.add.reduce(sorted[indexer] * weights, axis=axis) / sumval\n"
     ]
    },
    {
     "data": {
      "text/plain": [
       "<matplotlib.axes._subplots.AxesSubplot at 0x1c24ec6358>"
      ]
     },
     "execution_count": 66,
     "metadata": {},
     "output_type": "execute_result"
    },
    {
     "data": {
      "image/png": "[encoded data removed]",
      "text/plain": [
       "<Figure size 432x288 with 1 Axes>"
      ]
     },
     "metadata": {
      "needs_background": "light"
     },
     "output_type": "display_data"
    }
   ],
   "source": [
    "sns.barplot(data = df_order_details, x=\"Discount\", y=\"Quantity\", ci=68)"
   ]
  },
  {
   "cell_type": "markdown",
   "metadata": {},
   "source": [
    "#### Check and Remove Outliers"
   ]
  },
  {
   "cell_type": "code",
   "execution_count": 67,
   "metadata": {},
   "outputs": [],
   "source": [
    "from functions import find_outliers_Z"
   ]
  },
  {
   "cell_type": "code",
   "execution_count": 68,
   "metadata": {},
   "outputs": [
    {
     "name": "stdout",
     "output_type": "stream",
     "text": [
      "[i] Found 20 outliers using Z-score method for 0.0.\n",
      "[i] Found 2 outliers using Z-score method for 0.15.\n",
      "[i] Found 3 outliers using Z-score method for 0.05.\n",
      "[i] Found 2 outliers using Z-score method for 0.2.\n",
      "[i] Found 3 outliers using Z-score method for 0.25.\n",
      "[i] Found 3 outliers using Z-score method for 0.1.\n",
      "[i] Found 0 outliers using Z-score method for 0.02.\n",
      "[i] Found 0 outliers using Z-score method for 0.03.\n",
      "[i] Found 0 outliers using Z-score method for 0.04.\n",
      "[i] Found 0 outliers using Z-score method for 0.06.\n",
      "[i] Found 0 outliers using Z-score method for 0.01.\n"
     ]
    },
    {
     "name": "stderr",
     "output_type": "stream",
     "text": [
      "/Users/SusannaVSyassen/anaconda3/envs/learn-env/lib/python3.6/site-packages/scipy/stats/stats.py:2253: RuntimeWarning: invalid value encountered in true_divide\n",
      "  return (a - mns) / sstd\n"
     ]
    }
   ],
   "source": [
    "for grp_name,grp_data in grps.items():\n",
    "    idx_outs = find_outliers_Z(grp_data)\n",
    "    print(f\"[i] Found {idx_outs.sum()} outliers using Z-score method for {grp_name}.\")\n",
    "    grps[grp_name] = grp_data[~idx_outs]"
   ]
  },
  {
   "cell_type": "code",
   "execution_count": 69,
   "metadata": {},
   "outputs": [
    {
     "name": "stderr",
     "output_type": "stream",
     "text": [
      "/Users/SusannaVSyassen/anaconda3/envs/learn-env/lib/python3.6/site-packages/scipy/stats/stats.py:1713: FutureWarning: Using a non-tuple sequence for multidimensional indexing is deprecated; use `arr[tuple(seq)]` instead of `arr[seq]`. In the future this will be interpreted as an array index, `arr[np.array(seq)]`, which will result either in an error or a different result.\n",
      "  return np.add.reduce(sorted[indexer] * weights, axis=axis) / sumval\n"
     ]
    },
    {
     "data": {
      "text/plain": [
       "[Text(0, 0.5, 'Quantity'), Text(0.5, 0, 'Discount')]"
      ]
     },
     "execution_count": 69,
     "metadata": {},
     "output_type": "execute_result"
    },
    {
     "data": {
      "image/png": "[encoded data removed]",
      "text/plain": [
       "<Figure size 432x288 with 1 Axes>"
      ]
     },
     "metadata": {
      "needs_background": "light"
     },
     "output_type": "display_data"
    }
   ],
   "source": [
    "from functions import prep_data_for_tukeys\n",
    "df_data = prep_data_for_tukeys(grps)\n",
    "df_data.columns=[\"Quantity\", \"Discount\"]\n",
    "ax = sns.barplot(data = df_data, x=\"Discount\", y=\"Quantity\", ci=68)\n",
    "ax.set(xlabel = \"Discount\", ylabel = \"Quantity\")"
   ]
  },
  {
   "cell_type": "markdown",
   "metadata": {},
   "source": [
    "#### Test for Normality "
   ]
  },
  {
   "cell_type": "code",
   "execution_count": 70,
   "metadata": {},
   "outputs": [
    {
     "name": "stdout",
     "output_type": "stream",
     "text": [
      "Group 0.0 Normaltest p-value=0.0\n",
      "\t-The data is NOT normal.\n",
      "Group 0.15 Normaltest p-value=0.0\n",
      "\t-The data is NOT normal.\n",
      "Group 0.05 Normaltest p-value=0.0\n",
      "\t-The data is NOT normal.\n",
      "Group 0.2 Normaltest p-value=0.0005\n",
      "\t-The data is NOT normal.\n",
      "Group 0.25 Normaltest p-value=0.0013\n",
      "\t-The data is NOT normal.\n",
      "Group 0.1 Normaltest p-value=0.0\n",
      "\t-The data is NOT normal.\n",
      "\t-The group 0.02 has too few samples.\n",
      "\t-The group 0.03 has too few samples.\n",
      "\t-The group 0.04 has too few samples.\n",
      "\t-The group 0.06 has too few samples.\n",
      "\t-The group 0.01 has too few samples.\n"
     ]
    }
   ],
   "source": [
    "for k,v in grps.items():\n",
    "    if len(v) > 8:\n",
    "        stat,p = stats.normaltest(v)\n",
    "        print(f\"Group {k} Normaltest p-value={round(p,4)}\")\n",
    "        sig = 'is NOT' if p<.05 else 'IS'\n",
    "        print(f\"\\t-The data {sig} normal.\")\n",
    "    else:\n",
    "        print(f\"\\t-The group {k} has too few samples.\")"
   ]
  },
  {
   "cell_type": "code",
   "execution_count": 71,
   "metadata": {},
   "outputs": [],
   "source": [
    "list_pop = [0.03,0.04,0.06,0.01]\n",
    "for group in list_pop:\n",
    "    grps.pop(group)"
   ]
  },
  {
   "cell_type": "code",
   "execution_count": 72,
   "metadata": {},
   "outputs": [
    {
     "name": "stderr",
     "output_type": "stream",
     "text": [
      "/Users/SusannaVSyassen/anaconda3/envs/learn-env/lib/python3.6/site-packages/ipykernel_launcher.py:1: UserWarning: Boolean Series key will be reindexed to match DataFrame index.\n",
      "  \"\"\"Entry point for launching an IPython kernel.\n"
     ]
    }
   ],
   "source": [
    "df_order_details = df_order_details[~all_outliers_combined]"
   ]
  },
  {
   "cell_type": "code",
   "execution_count": 73,
   "metadata": {},
   "outputs": [
    {
     "name": "stderr",
     "output_type": "stream",
     "text": [
      "/Users/SusannaVSyassen/anaconda3/envs/learn-env/lib/python3.6/site-packages/scipy/stats/stats.py:1713: FutureWarning: Using a non-tuple sequence for multidimensional indexing is deprecated; use `arr[tuple(seq)]` instead of `arr[seq]`. In the future this will be interpreted as an array index, `arr[np.array(seq)]`, which will result either in an error or a different result.\n",
      "  return np.add.reduce(sorted[indexer] * weights, axis=axis) / sumval\n"
     ]
    },
    {
     "data": {
      "text/plain": [
       "[Text(0, 0.5, 'Quantity'), Text(0.5, 0, 'Discount')]"
      ]
     },
     "execution_count": 73,
     "metadata": {},
     "output_type": "execute_result"
    },
    {
     "data": {
      "image/png": "[encoded data removed]",
      "text/plain": [
       "<Figure size 432x288 with 1 Axes>"
      ]
     },
     "metadata": {
      "needs_background": "light"
     },
     "output_type": "display_data"
    }
   ],
   "source": [
    "from functions import prep_data_for_tukeys\n",
    "df_data = prep_data_for_tukeys(grps)\n",
    "df_data.head()\n",
    "ax = sns.barplot(data = df_data, x=\"group\", y=\"data\", ci=68)\n",
    "ax.set(xlabel = \"Discount\", ylabel = \"Quantity\")"
   ]
  },
  {
   "cell_type": "markdown",
   "metadata": {},
   "source": [
    "#### Check group sizes"
   ]
  },
  {
   "cell_type": "markdown",
   "metadata": {},
   "source": [
    "- One-Way ANOVA\tIf have 2-9 groups, each group n >= 15\n",
    "  If have 10-12 groups, each group n>20."
   ]
  },
  {
   "cell_type": "code",
   "execution_count": 74,
   "metadata": {},
   "outputs": [
    {
     "name": "stdout",
     "output_type": "stream",
     "text": [
      "Total size n for 0.0 is 1297\n",
      "Total size n for 0.15 is 155\n",
      "Total size n for 0.05 is 182\n",
      "Total size n for 0.2 is 159\n",
      "Total size n for 0.25 is 151\n",
      "Total size n for 0.1 is 170\n",
      "Total size n for 0.02 is 2\n"
     ]
    }
   ],
   "source": [
    "for grp_name,grp_data in grps.items():\n",
    "    print(f\"Total size n for {grp_name} is {len(grps[grp_name])}\")"
   ]
  },
  {
   "cell_type": "markdown",
   "metadata": {},
   "source": [
    "Group size is large enough (>15) to safely ignore normality assumption to continue ANOVA."
   ]
  },
  {
   "cell_type": "markdown",
   "metadata": {},
   "source": [
    "####  Test for Equal Variance"
   ]
  },
  {
   "cell_type": "code",
   "execution_count": 75,
   "metadata": {},
   "outputs": [],
   "source": [
    "data=[]\n",
    "for k,v in grps.items():\n",
    "\n",
    "    data.append(v.values)"
   ]
  },
  {
   "cell_type": "code",
   "execution_count": 76,
   "metadata": {},
   "outputs": [
    {
     "name": "stdout",
     "output_type": "stream",
     "text": [
      "Levene' Test for Equal Variance p-value=0.0003\n",
      "\t-The groups do NOT have equal variance.\n"
     ]
    }
   ],
   "source": [
    "stat,p = stats.levene(*data)\n",
    "print(f\"Levene' Test for Equal Variance p-value={round(p,4)}\")\n",
    "sig = 'do NOT' if p<.05 else 'DO'\n",
    "\n",
    "print(f\"\\t-The groups {sig} have equal variance.\")"
   ]
  },
  {
   "cell_type": "markdown",
   "metadata": {},
   "source": [
    "### ANOVA Test"
   ]
  },
  {
   "cell_type": "code",
   "execution_count": 77,
   "metadata": {},
   "outputs": [
    {
     "name": "stdout",
     "output_type": "stream",
     "text": [
      "Anova Results stat = 11.373004776677478 p = 0.0\n"
     ]
    }
   ],
   "source": [
    "#f_oneway(ctrl_mean_quantity, exp_mean_quantity)\n",
    "stat,p = f_oneway(*data)\n",
    "print(f\"Anova Results stat = {stat} p = {round(p,5)}\")"
   ]
  },
  {
   "cell_type": "markdown",
   "metadata": {},
   "source": [
    "If the P-Value is < $\\alpha$:  \n",
    "- Reject the null hypothesis\n",
    "- Calculate the effect size (e.g. Cohen's $d$)\n",
    "\n",
    "If the P-Value <$\\alpha$ AND you have multiple groups: \n",
    "- Run a pairwise Tukey's test to know which groups were significantly different\n",
    "- Report statistical power (optional)"
   ]
  },
  {
   "cell_type": "markdown",
   "metadata": {},
   "source": [
    ">We now need to continue to discover why the results show that discount DOES have a significant effect on >price (h1)"
   ]
  },
  {
   "cell_type": "markdown",
   "metadata": {},
   "source": [
    "### Tukey's Pairwise Comparison"
   ]
  },
  {
   "cell_type": "markdown",
   "metadata": {},
   "source": [
    "There is a significant difference between the groups of discounts, but\n",
    "Anova does not specify which ones.  Run Tukey's comparison to further discover the difference\n",
    "between each discount value."
   ]
  },
  {
   "cell_type": "code",
   "execution_count": 78,
   "metadata": {},
   "outputs": [
    {
     "ename": "KeyError",
     "evalue": "'Quantity'",
     "output_type": "error",
     "traceback": [
      "\u001b[0;31m---------------------------------------------------------------------------\u001b[0m",
      "\u001b[0;31mKeyError\u001b[0m                                  Traceback (most recent call last)",
      "\u001b[0;32m~/anaconda3/envs/learn-env/lib/python3.6/site-packages/pandas/core/indexes/base.py\u001b[0m in \u001b[0;36mget_loc\u001b[0;34m(self, key, method, tolerance)\u001b[0m\n\u001b[1;32m   3077\u001b[0m             \u001b[0;32mtry\u001b[0m\u001b[0;34m:\u001b[0m\u001b[0;34m\u001b[0m\u001b[0m\n\u001b[0;32m-> 3078\u001b[0;31m                 \u001b[0;32mreturn\u001b[0m \u001b[0mself\u001b[0m\u001b[0;34m.\u001b[0m\u001b[0m_engine\u001b[0m\u001b[0;34m.\u001b[0m\u001b[0mget_loc\u001b[0m\u001b[0;34m(\u001b[0m\u001b[0mkey\u001b[0m\u001b[0;34m)\u001b[0m\u001b[0;34m\u001b[0m\u001b[0m\n\u001b[0m\u001b[1;32m   3079\u001b[0m             \u001b[0;32mexcept\u001b[0m \u001b[0mKeyError\u001b[0m\u001b[0;34m:\u001b[0m\u001b[0;34m\u001b[0m\u001b[0m\n",
      "\u001b[0;32mpandas/_libs/index.pyx\u001b[0m in \u001b[0;36mpandas._libs.index.IndexEngine.get_loc\u001b[0;34m()\u001b[0m\n",
      "\u001b[0;32mpandas/_libs/index.pyx\u001b[0m in \u001b[0;36mpandas._libs.index.IndexEngine.get_loc\u001b[0;34m()\u001b[0m\n",
      "\u001b[0;32mpandas/_libs/hashtable_class_helper.pxi\u001b[0m in \u001b[0;36mpandas._libs.hashtable.PyObjectHashTable.get_item\u001b[0;34m()\u001b[0m\n",
      "\u001b[0;32mpandas/_libs/hashtable_class_helper.pxi\u001b[0m in \u001b[0;36mpandas._libs.hashtable.PyObjectHashTable.get_item\u001b[0;34m()\u001b[0m\n",
      "\u001b[0;31mKeyError\u001b[0m: 'Quantity'",
      "\nDuring handling of the above exception, another exception occurred:\n",
      "\u001b[0;31mKeyError\u001b[0m                                  Traceback (most recent call last)",
      "\u001b[0;32m<ipython-input-78-ab90caf668e5>\u001b[0m in \u001b[0;36m<module>\u001b[0;34m()\u001b[0m\n\u001b[1;32m      1\u001b[0m \u001b[0;32mfrom\u001b[0m \u001b[0mstatsmodels\u001b[0m\u001b[0;34m.\u001b[0m\u001b[0mstats\u001b[0m\u001b[0;34m.\u001b[0m\u001b[0mmulticomp\u001b[0m \u001b[0;32mimport\u001b[0m \u001b[0mpairwise_tukeyhsd\u001b[0m\u001b[0;34m\u001b[0m\u001b[0m\n\u001b[0;32m----> 2\u001b[0;31m \u001b[0mtukeys\u001b[0m \u001b[0;34m=\u001b[0m \u001b[0mpairwise_tukeyhsd\u001b[0m\u001b[0;34m(\u001b[0m\u001b[0mdf_data\u001b[0m\u001b[0;34m[\u001b[0m\u001b[0;34m\"Quantity\"\u001b[0m\u001b[0;34m]\u001b[0m\u001b[0;34m,\u001b[0m \u001b[0mdf_data\u001b[0m\u001b[0;34m[\u001b[0m\u001b[0;34m\"Discount\"\u001b[0m\u001b[0;34m]\u001b[0m\u001b[0;34m)\u001b[0m\u001b[0;34m\u001b[0m\u001b[0m\n\u001b[0m\u001b[1;32m      3\u001b[0m \u001b[0mtukeys\u001b[0m\u001b[0;34m.\u001b[0m\u001b[0msummary\u001b[0m\u001b[0;34m(\u001b[0m\u001b[0;34m)\u001b[0m\u001b[0;34m\u001b[0m\u001b[0m\n",
      "\u001b[0;32m~/anaconda3/envs/learn-env/lib/python3.6/site-packages/pandas/core/frame.py\u001b[0m in \u001b[0;36m__getitem__\u001b[0;34m(self, key)\u001b[0m\n\u001b[1;32m   2686\u001b[0m             \u001b[0;32mreturn\u001b[0m \u001b[0mself\u001b[0m\u001b[0;34m.\u001b[0m\u001b[0m_getitem_multilevel\u001b[0m\u001b[0;34m(\u001b[0m\u001b[0mkey\u001b[0m\u001b[0;34m)\u001b[0m\u001b[0;34m\u001b[0m\u001b[0m\n\u001b[1;32m   2687\u001b[0m         \u001b[0;32melse\u001b[0m\u001b[0;34m:\u001b[0m\u001b[0;34m\u001b[0m\u001b[0m\n\u001b[0;32m-> 2688\u001b[0;31m             \u001b[0;32mreturn\u001b[0m \u001b[0mself\u001b[0m\u001b[0;34m.\u001b[0m\u001b[0m_getitem_column\u001b[0m\u001b[0;34m(\u001b[0m\u001b[0mkey\u001b[0m\u001b[0;34m)\u001b[0m\u001b[0;34m\u001b[0m\u001b[0m\n\u001b[0m\u001b[1;32m   2689\u001b[0m \u001b[0;34m\u001b[0m\u001b[0m\n\u001b[1;32m   2690\u001b[0m     \u001b[0;32mdef\u001b[0m \u001b[0m_getitem_column\u001b[0m\u001b[0;34m(\u001b[0m\u001b[0mself\u001b[0m\u001b[0;34m,\u001b[0m \u001b[0mkey\u001b[0m\u001b[0;34m)\u001b[0m\u001b[0;34m:\u001b[0m\u001b[0;34m\u001b[0m\u001b[0m\n",
      "\u001b[0;32m~/anaconda3/envs/learn-env/lib/python3.6/site-packages/pandas/core/frame.py\u001b[0m in \u001b[0;36m_getitem_column\u001b[0;34m(self, key)\u001b[0m\n\u001b[1;32m   2693\u001b[0m         \u001b[0;31m# get column\u001b[0m\u001b[0;34m\u001b[0m\u001b[0;34m\u001b[0m\u001b[0m\n\u001b[1;32m   2694\u001b[0m         \u001b[0;32mif\u001b[0m \u001b[0mself\u001b[0m\u001b[0;34m.\u001b[0m\u001b[0mcolumns\u001b[0m\u001b[0;34m.\u001b[0m\u001b[0mis_unique\u001b[0m\u001b[0;34m:\u001b[0m\u001b[0;34m\u001b[0m\u001b[0m\n\u001b[0;32m-> 2695\u001b[0;31m             \u001b[0;32mreturn\u001b[0m \u001b[0mself\u001b[0m\u001b[0;34m.\u001b[0m\u001b[0m_get_item_cache\u001b[0m\u001b[0;34m(\u001b[0m\u001b[0mkey\u001b[0m\u001b[0;34m)\u001b[0m\u001b[0;34m\u001b[0m\u001b[0m\n\u001b[0m\u001b[1;32m   2696\u001b[0m \u001b[0;34m\u001b[0m\u001b[0m\n\u001b[1;32m   2697\u001b[0m         \u001b[0;31m# duplicate columns & possible reduce dimensionality\u001b[0m\u001b[0;34m\u001b[0m\u001b[0;34m\u001b[0m\u001b[0m\n",
      "\u001b[0;32m~/anaconda3/envs/learn-env/lib/python3.6/site-packages/pandas/core/generic.py\u001b[0m in \u001b[0;36m_get_item_cache\u001b[0;34m(self, item)\u001b[0m\n\u001b[1;32m   2487\u001b[0m         \u001b[0mres\u001b[0m \u001b[0;34m=\u001b[0m \u001b[0mcache\u001b[0m\u001b[0;34m.\u001b[0m\u001b[0mget\u001b[0m\u001b[0;34m(\u001b[0m\u001b[0mitem\u001b[0m\u001b[0;34m)\u001b[0m\u001b[0;34m\u001b[0m\u001b[0m\n\u001b[1;32m   2488\u001b[0m         \u001b[0;32mif\u001b[0m \u001b[0mres\u001b[0m \u001b[0;32mis\u001b[0m \u001b[0;32mNone\u001b[0m\u001b[0;34m:\u001b[0m\u001b[0;34m\u001b[0m\u001b[0m\n\u001b[0;32m-> 2489\u001b[0;31m             \u001b[0mvalues\u001b[0m \u001b[0;34m=\u001b[0m \u001b[0mself\u001b[0m\u001b[0;34m.\u001b[0m\u001b[0m_data\u001b[0m\u001b[0;34m.\u001b[0m\u001b[0mget\u001b[0m\u001b[0;34m(\u001b[0m\u001b[0mitem\u001b[0m\u001b[0;34m)\u001b[0m\u001b[0;34m\u001b[0m\u001b[0m\n\u001b[0m\u001b[1;32m   2490\u001b[0m             \u001b[0mres\u001b[0m \u001b[0;34m=\u001b[0m \u001b[0mself\u001b[0m\u001b[0;34m.\u001b[0m\u001b[0m_box_item_values\u001b[0m\u001b[0;34m(\u001b[0m\u001b[0mitem\u001b[0m\u001b[0;34m,\u001b[0m \u001b[0mvalues\u001b[0m\u001b[0;34m)\u001b[0m\u001b[0;34m\u001b[0m\u001b[0m\n\u001b[1;32m   2491\u001b[0m             \u001b[0mcache\u001b[0m\u001b[0;34m[\u001b[0m\u001b[0mitem\u001b[0m\u001b[0;34m]\u001b[0m \u001b[0;34m=\u001b[0m \u001b[0mres\u001b[0m\u001b[0;34m\u001b[0m\u001b[0m\n",
      "\u001b[0;32m~/anaconda3/envs/learn-env/lib/python3.6/site-packages/pandas/core/internals.py\u001b[0m in \u001b[0;36mget\u001b[0;34m(self, item, fastpath)\u001b[0m\n\u001b[1;32m   4113\u001b[0m \u001b[0;34m\u001b[0m\u001b[0m\n\u001b[1;32m   4114\u001b[0m             \u001b[0;32mif\u001b[0m \u001b[0;32mnot\u001b[0m \u001b[0misna\u001b[0m\u001b[0;34m(\u001b[0m\u001b[0mitem\u001b[0m\u001b[0;34m)\u001b[0m\u001b[0;34m:\u001b[0m\u001b[0;34m\u001b[0m\u001b[0m\n\u001b[0;32m-> 4115\u001b[0;31m                 \u001b[0mloc\u001b[0m \u001b[0;34m=\u001b[0m \u001b[0mself\u001b[0m\u001b[0;34m.\u001b[0m\u001b[0mitems\u001b[0m\u001b[0;34m.\u001b[0m\u001b[0mget_loc\u001b[0m\u001b[0;34m(\u001b[0m\u001b[0mitem\u001b[0m\u001b[0;34m)\u001b[0m\u001b[0;34m\u001b[0m\u001b[0m\n\u001b[0m\u001b[1;32m   4116\u001b[0m             \u001b[0;32melse\u001b[0m\u001b[0;34m:\u001b[0m\u001b[0;34m\u001b[0m\u001b[0m\n\u001b[1;32m   4117\u001b[0m                 \u001b[0mindexer\u001b[0m \u001b[0;34m=\u001b[0m \u001b[0mnp\u001b[0m\u001b[0;34m.\u001b[0m\u001b[0marange\u001b[0m\u001b[0;34m(\u001b[0m\u001b[0mlen\u001b[0m\u001b[0;34m(\u001b[0m\u001b[0mself\u001b[0m\u001b[0;34m.\u001b[0m\u001b[0mitems\u001b[0m\u001b[0;34m)\u001b[0m\u001b[0;34m)\u001b[0m\u001b[0;34m[\u001b[0m\u001b[0misna\u001b[0m\u001b[0;34m(\u001b[0m\u001b[0mself\u001b[0m\u001b[0;34m.\u001b[0m\u001b[0mitems\u001b[0m\u001b[0;34m)\u001b[0m\u001b[0;34m]\u001b[0m\u001b[0;34m\u001b[0m\u001b[0m\n",
      "\u001b[0;32m~/anaconda3/envs/learn-env/lib/python3.6/site-packages/pandas/core/indexes/base.py\u001b[0m in \u001b[0;36mget_loc\u001b[0;34m(self, key, method, tolerance)\u001b[0m\n\u001b[1;32m   3078\u001b[0m                 \u001b[0;32mreturn\u001b[0m \u001b[0mself\u001b[0m\u001b[0;34m.\u001b[0m\u001b[0m_engine\u001b[0m\u001b[0;34m.\u001b[0m\u001b[0mget_loc\u001b[0m\u001b[0;34m(\u001b[0m\u001b[0mkey\u001b[0m\u001b[0;34m)\u001b[0m\u001b[0;34m\u001b[0m\u001b[0m\n\u001b[1;32m   3079\u001b[0m             \u001b[0;32mexcept\u001b[0m \u001b[0mKeyError\u001b[0m\u001b[0;34m:\u001b[0m\u001b[0;34m\u001b[0m\u001b[0m\n\u001b[0;32m-> 3080\u001b[0;31m                 \u001b[0;32mreturn\u001b[0m \u001b[0mself\u001b[0m\u001b[0;34m.\u001b[0m\u001b[0m_engine\u001b[0m\u001b[0;34m.\u001b[0m\u001b[0mget_loc\u001b[0m\u001b[0;34m(\u001b[0m\u001b[0mself\u001b[0m\u001b[0;34m.\u001b[0m\u001b[0m_maybe_cast_indexer\u001b[0m\u001b[0;34m(\u001b[0m\u001b[0mkey\u001b[0m\u001b[0;34m)\u001b[0m\u001b[0;34m)\u001b[0m\u001b[0;34m\u001b[0m\u001b[0m\n\u001b[0m\u001b[1;32m   3081\u001b[0m \u001b[0;34m\u001b[0m\u001b[0m\n\u001b[1;32m   3082\u001b[0m         \u001b[0mindexer\u001b[0m \u001b[0;34m=\u001b[0m \u001b[0mself\u001b[0m\u001b[0;34m.\u001b[0m\u001b[0mget_indexer\u001b[0m\u001b[0;34m(\u001b[0m\u001b[0;34m[\u001b[0m\u001b[0mkey\u001b[0m\u001b[0;34m]\u001b[0m\u001b[0;34m,\u001b[0m \u001b[0mmethod\u001b[0m\u001b[0;34m=\u001b[0m\u001b[0mmethod\u001b[0m\u001b[0;34m,\u001b[0m \u001b[0mtolerance\u001b[0m\u001b[0;34m=\u001b[0m\u001b[0mtolerance\u001b[0m\u001b[0;34m)\u001b[0m\u001b[0;34m\u001b[0m\u001b[0m\n",
      "\u001b[0;32mpandas/_libs/index.pyx\u001b[0m in \u001b[0;36mpandas._libs.index.IndexEngine.get_loc\u001b[0;34m()\u001b[0m\n",
      "\u001b[0;32mpandas/_libs/index.pyx\u001b[0m in \u001b[0;36mpandas._libs.index.IndexEngine.get_loc\u001b[0;34m()\u001b[0m\n",
      "\u001b[0;32mpandas/_libs/hashtable_class_helper.pxi\u001b[0m in \u001b[0;36mpandas._libs.hashtable.PyObjectHashTable.get_item\u001b[0;34m()\u001b[0m\n",
      "\u001b[0;32mpandas/_libs/hashtable_class_helper.pxi\u001b[0m in \u001b[0;36mpandas._libs.hashtable.PyObjectHashTable.get_item\u001b[0;34m()\u001b[0m\n",
      "\u001b[0;31mKeyError\u001b[0m: 'Quantity'"
     ]
    }
   ],
   "source": [
    "from statsmodels.stats.multicomp import pairwise_tukeyhsd\n",
    "tukeys = pairwise_tukeyhsd(df_data[\"Quantity\"], df_data[\"Discount\"])\n",
    "tukeys.summary()"
   ]
  },
  {
   "cell_type": "markdown",
   "metadata": {},
   "source": [
    "********************************"
   ]
  },
  {
   "cell_type": "markdown",
   "metadata": {},
   "source": [
    "## Final Analysis and Recommendations"
   ]
  },
  {
   "cell_type": "markdown",
   "metadata": {},
   "source": [
    "The Null Hypothesis is rejected as the P-Value was < 0.5\n",
    "\n",
    "\n",
    "### Recommendation 1:\n",
    "The discounts 0.5 and 0.25 had similar results from the Tukey's T-Test with the following results:\n",
    "- 0.0    0.05   6.2955   1.5381   11.053  True \n",
    "- 0.0    0.25   6.525    1.3647  11.6852  True\n",
    ">Therefore it is recommended from a business profitability perspective, that as there is very little\n",
    "difference between the quantity of products sold at 5% as compared to 20%, it may be of further\n",
    "interest to research if the company would profit from just offering 5% discounts.\n",
    "\n",
    "\n",
    "### Recommendation 2:\n",
    "As seen from the Tukey's T-Test the discounts 0.5, 0.15, 0.2, 0.25 had a statistically significant \n",
    "effect on the number of products ordered therefore H1 (Alternative Hypothesis) is True.  No discount in this list was significantly more effective in pairwise comparison with each other.\n",
    "\n",
    "15%\n",
    "- 0.0    0.15   6.6669   1.551   11.7828  True \n",
    "25%\n",
    "- 0.0    0.25   6.525    1.3647  11.6852  True \n",
    "5%\n",
    "- 0.0    0.05   6.2955   1.5381   11.053  True \n",
    "20%\n",
    "- 0.0    0.2    5.3096   0.2508  10.3684  True \n",
    "\n",
    "### Recommendation 3:\n",
    "According to the Cohen's D effect size results, discount does have a Higher LOW significant effect on quantity sold.\n",
    "\n",
    "### Recommendation 4:\n",
    "There was a large difference (36%) in  groups sample sizes for testing between Full Price and Discounted orders, it would be recommended to test on a sample size where Full Price products and Discounted product sample sizes were more equal.  \n",
    "Total size n for Full Price is 1297\n",
    "Total size n for Discounted is 823"
   ]
  },
  {
   "cell_type": "markdown",
   "metadata": {},
   "source": [
    "## Additional Hypothesis"
   ]
  },
  {
   "cell_type": "markdown",
   "metadata": {},
   "source": [
    "### [Hypothesis II](hypothesis_ii.ipynb)\n",
    "Does discount have a significant effect on total price paid on an order?"
   ]
  },
  {
   "cell_type": "markdown",
   "metadata": {},
   "source": [
    "### [Hypothesis III](hypothesis_iii.ipynb)\n",
    "Does the order month have a significant effect on the total spent on orders for that month?"
   ]
  },
  {
   "cell_type": "markdown",
   "metadata": {},
   "source": [
    "### [Hypothesis IV](hypothesis_iv.ipynb)\n",
    "Does the order month have a significant effect on the quantity on orders for that month?"
   ]
  }
 ],
 "metadata": {
  "kernelspec": {
   "display_name": "learn-env",
   "language": "python",
   "name": "learn-env"
  },
  "language_info": {
   "codemirror_mode": {
    "name": "ipython",
    "version": 3
   },
   "file_extension": ".py",
   "mimetype": "text/x-python",
   "name": "python",
   "nbconvert_exporter": "python",
   "pygments_lexer": "ipython3",
   "version": "3.6.6"
  },
  "toc": {
   "base_numbering": 1,
   "nav_menu": {},
   "number_sections": true,
   "sideBar": true,
   "skip_h1_title": false,
   "title_cell": "Table of Contents",
   "title_sidebar": "Contents",
   "toc_cell": true,
   "toc_position": {},
   "toc_section_display": true,
   "toc_window_display": true
  },
  "varInspector": {
   "cols": {
    "lenName": 16,
    "lenType": 16,
    "lenVar": 40
   },
   "kernels_config": {
    "python": {
     "delete_cmd_postfix": "",
     "delete_cmd_prefix": "del ",
     "library": "var_list.py",
     "varRefreshCmd": "print(var_dic_list())"
    },
    "r": {
     "delete_cmd_postfix": ") ",
     "delete_cmd_prefix": "rm(",
     "library": "var_list.r",
     "varRefreshCmd": "cat(var_dic_list()) "
    }
   },
   "types_to_exclude": [
    "module",
    "function",
    "builtin_function_or_method",
    "instance",
    "_Feature"
   ],
   "window_display": false
  }
 },
 "nbformat": 4,
 "nbformat_minor": 2
}
